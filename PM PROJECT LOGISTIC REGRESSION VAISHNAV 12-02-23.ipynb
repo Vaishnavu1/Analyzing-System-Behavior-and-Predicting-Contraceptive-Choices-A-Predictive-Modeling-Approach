{
 "cells": [
  {
   "cell_type": "markdown",
   "id": "b75f5939",
   "metadata": {},
   "source": [
    "# Problem-2"
   ]
  },
  {
   "cell_type": "markdown",
   "id": "743be74b",
   "metadata": {},
   "source": [
    "### You are a statistician at the Republic of Indonesia Ministry of Health and you are provided with a data of 1473 females collected from a Contraceptive Prevalence Survey. The samples are married women who were either not pregnant or do not know if they were at the time of the survey. "
   ]
  },
  {
   "cell_type": "markdown",
   "id": "efb49b77",
   "metadata": {},
   "source": [
    "### The problem is to predict do/don't they use a contraceptive method of choice based on their demographic and socio-economic #characteristics."
   ]
  },
  {
   "cell_type": "markdown",
   "id": "363f271e",
   "metadata": {},
   "source": [
    "### 2.1 Data Ingestion: Read the dataset. Do the descriptive statistics and do null value condition check, check for duplicates and outliers and write an inference on it. Perform Univariate and Bivariate Analysis and Multivariate Analysis. "
   ]
  },
  {
   "cell_type": "code",
   "execution_count": 1,
   "id": "321921a9",
   "metadata": {},
   "outputs": [],
   "source": [
    "import numpy as np\n",
    "import pandas as pd\n",
    "import matplotlib.pyplot as plt\n",
    "import seaborn as sns\n",
    "%matplotlib inline"
   ]
  },
  {
   "cell_type": "code",
   "execution_count": 2,
   "id": "6db890d6",
   "metadata": {},
   "outputs": [
    {
     "name": "stderr",
     "output_type": "stream",
     "text": [
      "C:\\Users\\User\\AppData\\Local\\Temp\\ipykernel_15912\\683685668.py:3: MatplotlibDeprecationWarning: The seaborn styles shipped by Matplotlib are deprecated since 3.6, as they no longer correspond to the styles shipped by seaborn. However, they will remain available as 'seaborn-v0_8-<style>'. Alternatively, directly use the seaborn API instead.\n",
      "  plt.style.use('seaborn-whitegrid')\n"
     ]
    }
   ],
   "source": [
    "plt.rcParams[\"figure.figsize\"] = (10,7)\n",
    "plt.rcParams['axes.titlesize'] = 16\n",
    "plt.style.use('seaborn-whitegrid')\n",
    "sns.set_palette(\"Set2\")"
   ]
  },
  {
   "cell_type": "code",
   "execution_count": 3,
   "id": "cae9845f",
   "metadata": {},
   "outputs": [],
   "source": [
    "data = pd.read_excel(r'C:\\Users\\User\\Downloads\\Contraceptive_method_dataset.xlsx')"
   ]
  },
  {
   "cell_type": "code",
   "execution_count": 4,
   "id": "a60b67a9",
   "metadata": {},
   "outputs": [
    {
     "name": "stdout",
     "output_type": "stream",
     "text": [
      "Number of rows: 1473 \n",
      "Number of columns: 10\n"
     ]
    }
   ],
   "source": [
    "print('Number of rows:',data.shape[0],'\\nNumber of columns:',data.shape[1])"
   ]
  },
  {
   "cell_type": "code",
   "execution_count": 5,
   "id": "140c14fe",
   "metadata": {},
   "outputs": [
    {
     "data": {
      "text/html": [
       "<div>\n",
       "<style scoped>\n",
       "    .dataframe tbody tr th:only-of-type {\n",
       "        vertical-align: middle;\n",
       "    }\n",
       "\n",
       "    .dataframe tbody tr th {\n",
       "        vertical-align: top;\n",
       "    }\n",
       "\n",
       "    .dataframe thead th {\n",
       "        text-align: right;\n",
       "    }\n",
       "</style>\n",
       "<table border=\"1\" class=\"dataframe\">\n",
       "  <thead>\n",
       "    <tr style=\"text-align: right;\">\n",
       "      <th></th>\n",
       "      <th>Wife_age</th>\n",
       "      <th>Wife_ education</th>\n",
       "      <th>Husband_education</th>\n",
       "      <th>No_of_children_born</th>\n",
       "      <th>Wife_religion</th>\n",
       "      <th>Wife_Working</th>\n",
       "      <th>Husband_Occupation</th>\n",
       "      <th>Standard_of_living_index</th>\n",
       "      <th>Media_exposure</th>\n",
       "      <th>Contraceptive_method_used</th>\n",
       "    </tr>\n",
       "  </thead>\n",
       "  <tbody>\n",
       "    <tr>\n",
       "      <th>0</th>\n",
       "      <td>24.0</td>\n",
       "      <td>Primary</td>\n",
       "      <td>Secondary</td>\n",
       "      <td>3.0</td>\n",
       "      <td>Scientology</td>\n",
       "      <td>No</td>\n",
       "      <td>2</td>\n",
       "      <td>High</td>\n",
       "      <td>Exposed</td>\n",
       "      <td>No</td>\n",
       "    </tr>\n",
       "    <tr>\n",
       "      <th>1</th>\n",
       "      <td>45.0</td>\n",
       "      <td>Uneducated</td>\n",
       "      <td>Secondary</td>\n",
       "      <td>10.0</td>\n",
       "      <td>Scientology</td>\n",
       "      <td>No</td>\n",
       "      <td>3</td>\n",
       "      <td>Very High</td>\n",
       "      <td>Exposed</td>\n",
       "      <td>No</td>\n",
       "    </tr>\n",
       "    <tr>\n",
       "      <th>2</th>\n",
       "      <td>43.0</td>\n",
       "      <td>Primary</td>\n",
       "      <td>Secondary</td>\n",
       "      <td>7.0</td>\n",
       "      <td>Scientology</td>\n",
       "      <td>No</td>\n",
       "      <td>3</td>\n",
       "      <td>Very High</td>\n",
       "      <td>Exposed</td>\n",
       "      <td>No</td>\n",
       "    </tr>\n",
       "    <tr>\n",
       "      <th>3</th>\n",
       "      <td>42.0</td>\n",
       "      <td>Secondary</td>\n",
       "      <td>Primary</td>\n",
       "      <td>9.0</td>\n",
       "      <td>Scientology</td>\n",
       "      <td>No</td>\n",
       "      <td>3</td>\n",
       "      <td>High</td>\n",
       "      <td>Exposed</td>\n",
       "      <td>No</td>\n",
       "    </tr>\n",
       "    <tr>\n",
       "      <th>4</th>\n",
       "      <td>36.0</td>\n",
       "      <td>Secondary</td>\n",
       "      <td>Secondary</td>\n",
       "      <td>8.0</td>\n",
       "      <td>Scientology</td>\n",
       "      <td>No</td>\n",
       "      <td>3</td>\n",
       "      <td>Low</td>\n",
       "      <td>Exposed</td>\n",
       "      <td>No</td>\n",
       "    </tr>\n",
       "  </tbody>\n",
       "</table>\n",
       "</div>"
      ],
      "text/plain": [
       "   Wife_age Wife_ education Husband_education  No_of_children_born  \\\n",
       "0      24.0         Primary         Secondary                  3.0   \n",
       "1      45.0      Uneducated         Secondary                 10.0   \n",
       "2      43.0         Primary         Secondary                  7.0   \n",
       "3      42.0       Secondary           Primary                  9.0   \n",
       "4      36.0       Secondary         Secondary                  8.0   \n",
       "\n",
       "  Wife_religion Wife_Working  Husband_Occupation Standard_of_living_index  \\\n",
       "0   Scientology           No                   2                     High   \n",
       "1   Scientology           No                   3                Very High   \n",
       "2   Scientology           No                   3                Very High   \n",
       "3   Scientology           No                   3                     High   \n",
       "4   Scientology           No                   3                      Low   \n",
       "\n",
       "  Media_exposure  Contraceptive_method_used  \n",
       "0         Exposed                        No  \n",
       "1         Exposed                        No  \n",
       "2         Exposed                        No  \n",
       "3         Exposed                        No  \n",
       "4         Exposed                        No  "
      ]
     },
     "execution_count": 5,
     "metadata": {},
     "output_type": "execute_result"
    }
   ],
   "source": [
    "data.head()"
   ]
  },
  {
   "cell_type": "code",
   "execution_count": 6,
   "id": "1f75d653",
   "metadata": {},
   "outputs": [
    {
     "name": "stdout",
     "output_type": "stream",
     "text": [
      "<class 'pandas.core.frame.DataFrame'>\n",
      "RangeIndex: 1473 entries, 0 to 1472\n",
      "Data columns (total 10 columns):\n",
      " #   Column                     Non-Null Count  Dtype  \n",
      "---  ------                     --------------  -----  \n",
      " 0   Wife_age                   1402 non-null   float64\n",
      " 1   Wife_ education            1473 non-null   object \n",
      " 2   Husband_education          1473 non-null   object \n",
      " 3   No_of_children_born        1452 non-null   float64\n",
      " 4   Wife_religion              1473 non-null   object \n",
      " 5   Wife_Working               1473 non-null   object \n",
      " 6   Husband_Occupation         1473 non-null   int64  \n",
      " 7   Standard_of_living_index   1473 non-null   object \n",
      " 8   Media_exposure             1473 non-null   object \n",
      " 9   Contraceptive_method_used  1473 non-null   object \n",
      "dtypes: float64(2), int64(1), object(7)\n",
      "memory usage: 115.2+ KB\n",
      "None \n",
      "\n",
      "Wife_age                     float64\n",
      "Wife_ education               object\n",
      "Husband_education             object\n",
      "No_of_children_born          float64\n",
      "Wife_religion                 object\n",
      "Wife_Working                  object\n",
      "Husband_Occupation             int64\n",
      "Standard_of_living_index      object\n",
      "Media_exposure                object\n",
      "Contraceptive_method_used     object\n",
      "dtype: object\n"
     ]
    }
   ],
   "source": [
    "print(data.info(),'\\n')\n",
    "print(data.dtypes)"
   ]
  },
  {
   "cell_type": "code",
   "execution_count": 7,
   "id": "038a98cd",
   "metadata": {},
   "outputs": [
    {
     "data": {
      "text/plain": [
       "Wife_age               71\n",
       "No_of_children_born    21\n",
       "dtype: int64"
      ]
     },
     "execution_count": 7,
     "metadata": {},
     "output_type": "execute_result"
    }
   ],
   "source": [
    "data.isnull().sum()[data.isnull().sum()>0]"
   ]
  },
  {
   "cell_type": "code",
   "execution_count": 8,
   "id": "46fa1e7b",
   "metadata": {},
   "outputs": [],
   "source": [
    "# Removing the spaces in column name"
   ]
  },
  {
   "cell_type": "code",
   "execution_count": 9,
   "id": "568a17cb",
   "metadata": {},
   "outputs": [],
   "source": [
    "data.rename(columns={'Wife_ education':'Wife_education','Media_exposure ':'Media_exposure'},inplace=True)"
   ]
  },
  {
   "cell_type": "code",
   "execution_count": 10,
   "id": "a2bdf5a1",
   "metadata": {},
   "outputs": [
    {
     "data": {
      "text/plain": [
       "Tertiary      577\n",
       "Secondary     410\n",
       "Primary       334\n",
       "Uneducated    152\n",
       "Name: Wife_education, dtype: int64"
      ]
     },
     "execution_count": 10,
     "metadata": {},
     "output_type": "execute_result"
    }
   ],
   "source": [
    "data['Wife_education'].value_counts()"
   ]
  },
  {
   "cell_type": "code",
   "execution_count": 11,
   "id": "04080579",
   "metadata": {},
   "outputs": [
    {
     "data": {
      "text/plain": [
       "Scientology        1253\n",
       "Non-Scientology     220\n",
       "Name: Wife_religion, dtype: int64"
      ]
     },
     "execution_count": 11,
     "metadata": {},
     "output_type": "execute_result"
    }
   ],
   "source": [
    "data['Wife_religion'].value_counts()"
   ]
  },
  {
   "cell_type": "code",
   "execution_count": 12,
   "id": "a302f5b6",
   "metadata": {
    "scrolled": true
   },
   "outputs": [
    {
     "data": {
      "text/plain": [
       "Exposed        1364\n",
       "Not-Exposed     109\n",
       "Name: Media_exposure, dtype: int64"
      ]
     },
     "execution_count": 12,
     "metadata": {},
     "output_type": "execute_result"
    }
   ],
   "source": [
    "data['Media_exposure'].value_counts()"
   ]
  },
  {
   "cell_type": "code",
   "execution_count": 13,
   "id": "5af5bc74",
   "metadata": {},
   "outputs": [
    {
     "data": {
      "text/plain": [
       "No     1104\n",
       "Yes     369\n",
       "Name: Wife_Working, dtype: int64"
      ]
     },
     "execution_count": 13,
     "metadata": {},
     "output_type": "execute_result"
    }
   ],
   "source": [
    "data['Wife_Working'].value_counts()"
   ]
  },
  {
   "cell_type": "code",
   "execution_count": 14,
   "id": "1dedb78a",
   "metadata": {},
   "outputs": [
    {
     "data": {
      "text/plain": [
       "Exposed        1364\n",
       "Not-Exposed     109\n",
       "Name: Media_exposure, dtype: int64"
      ]
     },
     "execution_count": 14,
     "metadata": {},
     "output_type": "execute_result"
    }
   ],
   "source": [
    "data['Media_exposure'].value_counts()"
   ]
  },
  {
   "cell_type": "code",
   "execution_count": 15,
   "id": "b30399c2",
   "metadata": {},
   "outputs": [
    {
     "data": {
      "text/plain": [
       "Very High    684\n",
       "High         431\n",
       "Low          229\n",
       "Very Low     129\n",
       "Name: Standard_of_living_index, dtype: int64"
      ]
     },
     "execution_count": 15,
     "metadata": {},
     "output_type": "execute_result"
    }
   ],
   "source": [
    "data['Standard_of_living_index'].value_counts()"
   ]
  },
  {
   "cell_type": "code",
   "execution_count": 16,
   "id": "a1548ffb",
   "metadata": {},
   "outputs": [
    {
     "data": {
      "text/plain": [
       "Tertiary      899\n",
       "Secondary     352\n",
       "Primary       178\n",
       "Uneducated     44\n",
       "Name: Husband_education, dtype: int64"
      ]
     },
     "execution_count": 16,
     "metadata": {},
     "output_type": "execute_result"
    }
   ],
   "source": [
    "data['Husband_education'].value_counts()"
   ]
  },
  {
   "cell_type": "code",
   "execution_count": 17,
   "id": "b6cba0df",
   "metadata": {},
   "outputs": [
    {
     "data": {
      "text/plain": [
       "3    585\n",
       "1    436\n",
       "2    425\n",
       "4     27\n",
       "Name: Husband_Occupation, dtype: int64"
      ]
     },
     "execution_count": 17,
     "metadata": {},
     "output_type": "execute_result"
    }
   ],
   "source": [
    "data['Husband_Occupation'].value_counts()"
   ]
  },
  {
   "cell_type": "code",
   "execution_count": 18,
   "id": "bb3c4c0e",
   "metadata": {},
   "outputs": [
    {
     "data": {
      "text/plain": [
       "Yes    844\n",
       "No     629\n",
       "Name: Contraceptive_method_used, dtype: int64"
      ]
     },
     "execution_count": 18,
     "metadata": {},
     "output_type": "execute_result"
    }
   ],
   "source": [
    "data['Contraceptive_method_used'].value_counts()"
   ]
  },
  {
   "cell_type": "code",
   "execution_count": 19,
   "id": "037223ef",
   "metadata": {},
   "outputs": [
    {
     "data": {
      "text/html": [
       "<div>\n",
       "<style scoped>\n",
       "    .dataframe tbody tr th:only-of-type {\n",
       "        vertical-align: middle;\n",
       "    }\n",
       "\n",
       "    .dataframe tbody tr th {\n",
       "        vertical-align: top;\n",
       "    }\n",
       "\n",
       "    .dataframe thead th {\n",
       "        text-align: right;\n",
       "    }\n",
       "</style>\n",
       "<table border=\"1\" class=\"dataframe\">\n",
       "  <thead>\n",
       "    <tr style=\"text-align: right;\">\n",
       "      <th></th>\n",
       "      <th>count</th>\n",
       "      <th>unique</th>\n",
       "      <th>top</th>\n",
       "      <th>freq</th>\n",
       "      <th>mean</th>\n",
       "      <th>std</th>\n",
       "      <th>min</th>\n",
       "      <th>25%</th>\n",
       "      <th>50%</th>\n",
       "      <th>75%</th>\n",
       "      <th>max</th>\n",
       "    </tr>\n",
       "  </thead>\n",
       "  <tbody>\n",
       "    <tr>\n",
       "      <th>Wife_age</th>\n",
       "      <td>1402.0</td>\n",
       "      <td>NaN</td>\n",
       "      <td>NaN</td>\n",
       "      <td>NaN</td>\n",
       "      <td>32.606277</td>\n",
       "      <td>8.274927</td>\n",
       "      <td>16.0</td>\n",
       "      <td>26.0</td>\n",
       "      <td>32.0</td>\n",
       "      <td>39.0</td>\n",
       "      <td>49.0</td>\n",
       "    </tr>\n",
       "    <tr>\n",
       "      <th>Wife_education</th>\n",
       "      <td>1473</td>\n",
       "      <td>4</td>\n",
       "      <td>Tertiary</td>\n",
       "      <td>577</td>\n",
       "      <td>NaN</td>\n",
       "      <td>NaN</td>\n",
       "      <td>NaN</td>\n",
       "      <td>NaN</td>\n",
       "      <td>NaN</td>\n",
       "      <td>NaN</td>\n",
       "      <td>NaN</td>\n",
       "    </tr>\n",
       "    <tr>\n",
       "      <th>Husband_education</th>\n",
       "      <td>1473</td>\n",
       "      <td>4</td>\n",
       "      <td>Tertiary</td>\n",
       "      <td>899</td>\n",
       "      <td>NaN</td>\n",
       "      <td>NaN</td>\n",
       "      <td>NaN</td>\n",
       "      <td>NaN</td>\n",
       "      <td>NaN</td>\n",
       "      <td>NaN</td>\n",
       "      <td>NaN</td>\n",
       "    </tr>\n",
       "    <tr>\n",
       "      <th>No_of_children_born</th>\n",
       "      <td>1452.0</td>\n",
       "      <td>NaN</td>\n",
       "      <td>NaN</td>\n",
       "      <td>NaN</td>\n",
       "      <td>3.254132</td>\n",
       "      <td>2.365212</td>\n",
       "      <td>0.0</td>\n",
       "      <td>1.0</td>\n",
       "      <td>3.0</td>\n",
       "      <td>4.0</td>\n",
       "      <td>16.0</td>\n",
       "    </tr>\n",
       "    <tr>\n",
       "      <th>Wife_religion</th>\n",
       "      <td>1473</td>\n",
       "      <td>2</td>\n",
       "      <td>Scientology</td>\n",
       "      <td>1253</td>\n",
       "      <td>NaN</td>\n",
       "      <td>NaN</td>\n",
       "      <td>NaN</td>\n",
       "      <td>NaN</td>\n",
       "      <td>NaN</td>\n",
       "      <td>NaN</td>\n",
       "      <td>NaN</td>\n",
       "    </tr>\n",
       "    <tr>\n",
       "      <th>Wife_Working</th>\n",
       "      <td>1473</td>\n",
       "      <td>2</td>\n",
       "      <td>No</td>\n",
       "      <td>1104</td>\n",
       "      <td>NaN</td>\n",
       "      <td>NaN</td>\n",
       "      <td>NaN</td>\n",
       "      <td>NaN</td>\n",
       "      <td>NaN</td>\n",
       "      <td>NaN</td>\n",
       "      <td>NaN</td>\n",
       "    </tr>\n",
       "    <tr>\n",
       "      <th>Husband_Occupation</th>\n",
       "      <td>1473.0</td>\n",
       "      <td>NaN</td>\n",
       "      <td>NaN</td>\n",
       "      <td>NaN</td>\n",
       "      <td>2.137814</td>\n",
       "      <td>0.864857</td>\n",
       "      <td>1.0</td>\n",
       "      <td>1.0</td>\n",
       "      <td>2.0</td>\n",
       "      <td>3.0</td>\n",
       "      <td>4.0</td>\n",
       "    </tr>\n",
       "    <tr>\n",
       "      <th>Standard_of_living_index</th>\n",
       "      <td>1473</td>\n",
       "      <td>4</td>\n",
       "      <td>Very High</td>\n",
       "      <td>684</td>\n",
       "      <td>NaN</td>\n",
       "      <td>NaN</td>\n",
       "      <td>NaN</td>\n",
       "      <td>NaN</td>\n",
       "      <td>NaN</td>\n",
       "      <td>NaN</td>\n",
       "      <td>NaN</td>\n",
       "    </tr>\n",
       "    <tr>\n",
       "      <th>Media_exposure</th>\n",
       "      <td>1473</td>\n",
       "      <td>2</td>\n",
       "      <td>Exposed</td>\n",
       "      <td>1364</td>\n",
       "      <td>NaN</td>\n",
       "      <td>NaN</td>\n",
       "      <td>NaN</td>\n",
       "      <td>NaN</td>\n",
       "      <td>NaN</td>\n",
       "      <td>NaN</td>\n",
       "      <td>NaN</td>\n",
       "    </tr>\n",
       "    <tr>\n",
       "      <th>Contraceptive_method_used</th>\n",
       "      <td>1473</td>\n",
       "      <td>2</td>\n",
       "      <td>Yes</td>\n",
       "      <td>844</td>\n",
       "      <td>NaN</td>\n",
       "      <td>NaN</td>\n",
       "      <td>NaN</td>\n",
       "      <td>NaN</td>\n",
       "      <td>NaN</td>\n",
       "      <td>NaN</td>\n",
       "      <td>NaN</td>\n",
       "    </tr>\n",
       "  </tbody>\n",
       "</table>\n",
       "</div>"
      ],
      "text/plain": [
       "                            count unique          top  freq       mean  \\\n",
       "Wife_age                   1402.0    NaN          NaN   NaN  32.606277   \n",
       "Wife_education               1473      4     Tertiary   577        NaN   \n",
       "Husband_education            1473      4     Tertiary   899        NaN   \n",
       "No_of_children_born        1452.0    NaN          NaN   NaN   3.254132   \n",
       "Wife_religion                1473      2  Scientology  1253        NaN   \n",
       "Wife_Working                 1473      2           No  1104        NaN   \n",
       "Husband_Occupation         1473.0    NaN          NaN   NaN   2.137814   \n",
       "Standard_of_living_index     1473      4    Very High   684        NaN   \n",
       "Media_exposure               1473      2      Exposed  1364        NaN   \n",
       "Contraceptive_method_used    1473      2          Yes   844        NaN   \n",
       "\n",
       "                                std   min   25%   50%   75%   max  \n",
       "Wife_age                   8.274927  16.0  26.0  32.0  39.0  49.0  \n",
       "Wife_education                  NaN   NaN   NaN   NaN   NaN   NaN  \n",
       "Husband_education               NaN   NaN   NaN   NaN   NaN   NaN  \n",
       "No_of_children_born        2.365212   0.0   1.0   3.0   4.0  16.0  \n",
       "Wife_religion                   NaN   NaN   NaN   NaN   NaN   NaN  \n",
       "Wife_Working                    NaN   NaN   NaN   NaN   NaN   NaN  \n",
       "Husband_Occupation         0.864857   1.0   1.0   2.0   3.0   4.0  \n",
       "Standard_of_living_index        NaN   NaN   NaN   NaN   NaN   NaN  \n",
       "Media_exposure                  NaN   NaN   NaN   NaN   NaN   NaN  \n",
       "Contraceptive_method_used       NaN   NaN   NaN   NaN   NaN   NaN  "
      ]
     },
     "execution_count": 19,
     "metadata": {},
     "output_type": "execute_result"
    }
   ],
   "source": [
    "data.describe(include='all').T"
   ]
  },
  {
   "cell_type": "code",
   "execution_count": 20,
   "id": "4678e9c3",
   "metadata": {},
   "outputs": [],
   "source": [
    "data['Wife_age'].fillna(data['Wife_age'].median(),inplace=True)"
   ]
  },
  {
   "cell_type": "code",
   "execution_count": 21,
   "id": "4ea835ff",
   "metadata": {},
   "outputs": [],
   "source": [
    "data['No_of_children_born'].fillna(data['No_of_children_born'].median(),inplace=True)"
   ]
  },
  {
   "cell_type": "code",
   "execution_count": 22,
   "id": "c93ca3fc",
   "metadata": {},
   "outputs": [],
   "source": [
    "data['Wife_age'] = data['Wife_age'].round().astype('int64')"
   ]
  },
  {
   "cell_type": "code",
   "execution_count": 23,
   "id": "098bba92",
   "metadata": {},
   "outputs": [],
   "source": [
    "data['No_of_children_born'] = data['No_of_children_born'].round().astype('int64')"
   ]
  },
  {
   "cell_type": "code",
   "execution_count": null,
   "id": "b283d640",
   "metadata": {},
   "outputs": [],
   "source": []
  },
  {
   "cell_type": "code",
   "execution_count": 24,
   "id": "fc9f6986",
   "metadata": {},
   "outputs": [],
   "source": [
    "num = data.select_dtypes(['float64','int64'])\n",
    "cat = data.select_dtypes(['object']) "
   ]
  },
  {
   "cell_type": "code",
   "execution_count": 25,
   "id": "fb38f4c2",
   "metadata": {},
   "outputs": [],
   "source": [
    "import scipy.stats as stats"
   ]
  },
  {
   "cell_type": "code",
   "execution_count": 26,
   "id": "781d490e",
   "metadata": {},
   "outputs": [],
   "source": [
    "def percent_outlier(_series):\n",
    "    counter = 0\n",
    "    lb = _series.quantile(0.25)-(1.5*(stats.iqr(_series)))\n",
    "    ub = _series.quantile(0.75)+(1.5*(stats.iqr(_series)))\n",
    "    for val in _series:\n",
    "        if (val>ub) or (val<lb): \n",
    "            counter=counter+1\n",
    "        else : pass\n",
    "    return 100*counter/len(_series)"
   ]
  },
  {
   "cell_type": "code",
   "execution_count": 27,
   "id": "3f177b84",
   "metadata": {},
   "outputs": [],
   "source": [
    "def outlier_percentage_df(data, features_list):\n",
    "    dict_outlier = {}\n",
    "    for x in features_list:\n",
    "        dict_outlier[x]=round(percent_outlier(data[x]),4)\n",
    "    return pd.DataFrame(dict_outlier, index=[\"% OUTLIERS\"]).T.sort_values(\"% OUTLIERS\", ascending=False)"
   ]
  },
  {
   "cell_type": "code",
   "execution_count": 28,
   "id": "f9e90476",
   "metadata": {},
   "outputs": [
    {
     "data": {
      "text/html": [
       "<div>\n",
       "<style scoped>\n",
       "    .dataframe tbody tr th:only-of-type {\n",
       "        vertical-align: middle;\n",
       "    }\n",
       "\n",
       "    .dataframe tbody tr th {\n",
       "        vertical-align: top;\n",
       "    }\n",
       "\n",
       "    .dataframe thead th {\n",
       "        text-align: right;\n",
       "    }\n",
       "</style>\n",
       "<table border=\"1\" class=\"dataframe\">\n",
       "  <thead>\n",
       "    <tr style=\"text-align: right;\">\n",
       "      <th></th>\n",
       "      <th>% OUTLIERS</th>\n",
       "    </tr>\n",
       "  </thead>\n",
       "  <tbody>\n",
       "    <tr>\n",
       "      <th>No_of_children_born</th>\n",
       "      <td>3.055</td>\n",
       "    </tr>\n",
       "    <tr>\n",
       "      <th>Wife_age</th>\n",
       "      <td>0.000</td>\n",
       "    </tr>\n",
       "    <tr>\n",
       "      <th>Husband_Occupation</th>\n",
       "      <td>0.000</td>\n",
       "    </tr>\n",
       "  </tbody>\n",
       "</table>\n",
       "</div>"
      ],
      "text/plain": [
       "                     % OUTLIERS\n",
       "No_of_children_born       3.055\n",
       "Wife_age                  0.000\n",
       "Husband_Occupation        0.000"
      ]
     },
     "execution_count": 28,
     "metadata": {},
     "output_type": "execute_result"
    }
   ],
   "source": [
    "outlier_percentage_df(data,num)"
   ]
  },
  {
   "cell_type": "code",
   "execution_count": 29,
   "id": "aba5b172",
   "metadata": {},
   "outputs": [
    {
     "data": {
      "image/png": "[encoded data removed]",
      "text/plain": [
       "<Figure size 1000x700 with 1 Axes>"
      ]
     },
     "metadata": {},
     "output_type": "display_data"
    }
   ],
   "source": [
    "sns.boxplot(data['No_of_children_born'])\n",
    "plt.title('Box plot of Number of children_born')\n",
    "plt.show()"
   ]
  },
  {
   "cell_type": "code",
   "execution_count": 30,
   "id": "4c7eef78",
   "metadata": {},
   "outputs": [
    {
     "data": {
      "image/png": "[encoded data removed]",
      "text/plain": [
       "<Figure size 1000x700 with 1 Axes>"
      ]
     },
     "metadata": {},
     "output_type": "display_data"
    }
   ],
   "source": [
    "sns.boxplot(data['Wife_age'])\n",
    "plt.title('Box plot of Wife age')\n",
    "plt.show()"
   ]
  },
  {
   "cell_type": "code",
   "execution_count": 31,
   "id": "4a48c57c",
   "metadata": {},
   "outputs": [
    {
     "data": {
      "image/png": "[encoded data removed]",
      "text/plain": [
       "<Figure size 1000x700 with 1 Axes>"
      ]
     },
     "metadata": {},
     "output_type": "display_data"
    }
   ],
   "source": [
    "sns.histplot(data['No_of_children_born'],kde=True)\n",
    "plt.title('Histogram of No_of_children_born')\n",
    "plt.show()"
   ]
  },
  {
   "cell_type": "code",
   "execution_count": 32,
   "id": "e994357d",
   "metadata": {},
   "outputs": [
    {
     "data": {
      "image/png": "[encoded data removed]",
      "text/plain": [
       "<Figure size 1000x700 with 1 Axes>"
      ]
     },
     "metadata": {},
     "output_type": "display_data"
    }
   ],
   "source": [
    "sns.histplot(data['Wife_age'],kde=True)\n",
    "plt.title('Histogram of Wife age')\n",
    "plt.show()"
   ]
  },
  {
   "cell_type": "code",
   "execution_count": 33,
   "id": "722af101",
   "metadata": {},
   "outputs": [],
   "source": [
    "# We need to treat ouliers "
   ]
  },
  {
   "cell_type": "code",
   "execution_count": 34,
   "id": "25a1f783",
   "metadata": {},
   "outputs": [],
   "source": [
    "lb = data['No_of_children_born'].quantile(0.25)-(1.5*(stats.iqr(data['No_of_children_born'])))\n",
    "ub = data['No_of_children_born'].quantile(0.25)+(1.5*(stats.iqr(data['No_of_children_born'])))"
   ]
  },
  {
   "cell_type": "code",
   "execution_count": 35,
   "id": "8831d926",
   "metadata": {},
   "outputs": [
    {
     "data": {
      "text/plain": [
       "-3.5"
      ]
     },
     "execution_count": 35,
     "metadata": {},
     "output_type": "execute_result"
    }
   ],
   "source": [
    "lb"
   ]
  },
  {
   "cell_type": "code",
   "execution_count": 36,
   "id": "acecccbc",
   "metadata": {},
   "outputs": [
    {
     "data": {
      "text/plain": [
       "5.5"
      ]
     },
     "execution_count": 36,
     "metadata": {},
     "output_type": "execute_result"
    }
   ],
   "source": [
    "ub"
   ]
  },
  {
   "cell_type": "code",
   "execution_count": 37,
   "id": "21b98bdb",
   "metadata": {
    "scrolled": true
   },
   "outputs": [],
   "source": [
    "data['No_of_children_born']=np.where(data['No_of_children_born']>ub,ub,data['No_of_children_born'])\n",
    "data['No_of_children_born']=np.where(data['No_of_children_born']<lb,lb,data['No_of_children_born'])"
   ]
  },
  {
   "cell_type": "code",
   "execution_count": 38,
   "id": "3d6d2d53",
   "metadata": {
    "scrolled": true
   },
   "outputs": [
    {
     "data": {
      "image/png": "[encoded data removed]",
      "text/plain": [
       "<Figure size 1000x700 with 1 Axes>"
      ]
     },
     "metadata": {},
     "output_type": "display_data"
    }
   ],
   "source": [
    "sns.boxplot(data['No_of_children_born'])\n",
    "plt.title('Box plot of No_of_children_born')\n",
    "plt.show()"
   ]
  },
  {
   "cell_type": "code",
   "execution_count": 39,
   "id": "77b213ce",
   "metadata": {},
   "outputs": [
    {
     "data": {
      "text/plain": [
       "90"
      ]
     },
     "execution_count": 39,
     "metadata": {},
     "output_type": "execute_result"
    }
   ],
   "source": [
    "data.duplicated().sum()"
   ]
  },
  {
   "cell_type": "code",
   "execution_count": 40,
   "id": "d63d2502",
   "metadata": {},
   "outputs": [],
   "source": [
    "data = data.drop_duplicates()"
   ]
  },
  {
   "cell_type": "code",
   "execution_count": 41,
   "id": "cc92f108",
   "metadata": {},
   "outputs": [
    {
     "data": {
      "text/plain": [
       "0"
      ]
     },
     "execution_count": 41,
     "metadata": {},
     "output_type": "execute_result"
    }
   ],
   "source": [
    "data.duplicated().sum()"
   ]
  },
  {
   "cell_type": "code",
   "execution_count": 42,
   "id": "cedd34c9",
   "metadata": {},
   "outputs": [
    {
     "data": {
      "text/plain": [
       "(1383, 10)"
      ]
     },
     "execution_count": 42,
     "metadata": {},
     "output_type": "execute_result"
    }
   ],
   "source": [
    "data.shape"
   ]
  },
  {
   "cell_type": "code",
   "execution_count": 43,
   "id": "7be5779e",
   "metadata": {},
   "outputs": [],
   "source": [
    "# We have removed all the duplicated in the dataset"
   ]
  },
  {
   "cell_type": "code",
   "execution_count": null,
   "id": "d578b7bd",
   "metadata": {},
   "outputs": [],
   "source": []
  },
  {
   "cell_type": "code",
   "execution_count": 44,
   "id": "b5bf5f4e",
   "metadata": {},
   "outputs": [
    {
     "data": {
      "text/plain": [
       "Index(['Wife_age', 'Wife_education', 'Husband_education',\n",
       "       'No_of_children_born', 'Wife_religion', 'Wife_Working',\n",
       "       'Husband_Occupation', 'Standard_of_living_index', 'Media_exposure',\n",
       "       'Contraceptive_method_used'],\n",
       "      dtype='object')"
      ]
     },
     "execution_count": 44,
     "metadata": {},
     "output_type": "execute_result"
    }
   ],
   "source": [
    "data.columns"
   ]
  },
  {
   "cell_type": "code",
   "execution_count": 45,
   "id": "d278bc1a",
   "metadata": {},
   "outputs": [
    {
     "data": {
      "image/png": "[encoded data removed]",
      "text/plain": [
       "<Figure size 1400x700 with 6 Axes>"
      ]
     },
     "metadata": {},
     "output_type": "display_data"
    }
   ],
   "source": [
    "plt.figure(figsize=(14,7))\n",
    "plt.subplot(3,2,1)\n",
    "sns.countplot(data = data,x = data.columns[1])\n",
    "plt.subplot(3,2,2)\n",
    "sns.countplot(data = data,x = data.columns[2])\n",
    "plt.subplot(3,2,3)\n",
    "sns.countplot(data = data,x = data.columns[4])\n",
    "plt.subplot(3,2,4)\n",
    "sns.countplot(data = data,x = data.columns[5])\n",
    "plt.subplot(3,2,5)\n",
    "sns.countplot(data = data,x = data.columns[6])\n",
    "plt.subplot(3,2,6)\n",
    "sns.countplot(data = data,x = data.columns[7])\n",
    "plt.tight_layout()\n",
    "sns.countplot(data = data,x = data.columns[8])\n",
    "plt.tight_layout()\n",
    "sns.countplot(data = data,x = data.columns[9])\n",
    "plt.tight_layout()"
   ]
  },
  {
   "cell_type": "code",
   "execution_count": 46,
   "id": "6c189735",
   "metadata": {},
   "outputs": [
    {
     "data": {
      "text/html": [
       "<div>\n",
       "<style scoped>\n",
       "    .dataframe tbody tr th:only-of-type {\n",
       "        vertical-align: middle;\n",
       "    }\n",
       "\n",
       "    .dataframe tbody tr th {\n",
       "        vertical-align: top;\n",
       "    }\n",
       "\n",
       "    .dataframe thead th {\n",
       "        text-align: right;\n",
       "    }\n",
       "</style>\n",
       "<table border=\"1\" class=\"dataframe\">\n",
       "  <thead>\n",
       "    <tr style=\"text-align: right;\">\n",
       "      <th></th>\n",
       "      <th>Wife_age</th>\n",
       "      <th>No_of_children_born</th>\n",
       "      <th>Husband_Occupation</th>\n",
       "    </tr>\n",
       "  </thead>\n",
       "  <tbody>\n",
       "    <tr>\n",
       "      <th>0</th>\n",
       "      <td>24</td>\n",
       "      <td>3</td>\n",
       "      <td>2</td>\n",
       "    </tr>\n",
       "    <tr>\n",
       "      <th>1</th>\n",
       "      <td>45</td>\n",
       "      <td>10</td>\n",
       "      <td>3</td>\n",
       "    </tr>\n",
       "    <tr>\n",
       "      <th>2</th>\n",
       "      <td>43</td>\n",
       "      <td>7</td>\n",
       "      <td>3</td>\n",
       "    </tr>\n",
       "    <tr>\n",
       "      <th>3</th>\n",
       "      <td>42</td>\n",
       "      <td>9</td>\n",
       "      <td>3</td>\n",
       "    </tr>\n",
       "    <tr>\n",
       "      <th>4</th>\n",
       "      <td>36</td>\n",
       "      <td>8</td>\n",
       "      <td>3</td>\n",
       "    </tr>\n",
       "    <tr>\n",
       "      <th>...</th>\n",
       "      <td>...</td>\n",
       "      <td>...</td>\n",
       "      <td>...</td>\n",
       "    </tr>\n",
       "    <tr>\n",
       "      <th>1468</th>\n",
       "      <td>33</td>\n",
       "      <td>3</td>\n",
       "      <td>2</td>\n",
       "    </tr>\n",
       "    <tr>\n",
       "      <th>1469</th>\n",
       "      <td>33</td>\n",
       "      <td>3</td>\n",
       "      <td>1</td>\n",
       "    </tr>\n",
       "    <tr>\n",
       "      <th>1470</th>\n",
       "      <td>39</td>\n",
       "      <td>3</td>\n",
       "      <td>1</td>\n",
       "    </tr>\n",
       "    <tr>\n",
       "      <th>1471</th>\n",
       "      <td>33</td>\n",
       "      <td>3</td>\n",
       "      <td>2</td>\n",
       "    </tr>\n",
       "    <tr>\n",
       "      <th>1472</th>\n",
       "      <td>17</td>\n",
       "      <td>1</td>\n",
       "      <td>2</td>\n",
       "    </tr>\n",
       "  </tbody>\n",
       "</table>\n",
       "<p>1473 rows × 3 columns</p>\n",
       "</div>"
      ],
      "text/plain": [
       "      Wife_age  No_of_children_born  Husband_Occupation\n",
       "0           24                    3                   2\n",
       "1           45                   10                   3\n",
       "2           43                    7                   3\n",
       "3           42                    9                   3\n",
       "4           36                    8                   3\n",
       "...        ...                  ...                 ...\n",
       "1468        33                    3                   2\n",
       "1469        33                    3                   1\n",
       "1470        39                    3                   1\n",
       "1471        33                    3                   2\n",
       "1472        17                    1                   2\n",
       "\n",
       "[1473 rows x 3 columns]"
      ]
     },
     "execution_count": 46,
     "metadata": {},
     "output_type": "execute_result"
    }
   ],
   "source": [
    "num"
   ]
  },
  {
   "cell_type": "code",
   "execution_count": 47,
   "id": "5842687c",
   "metadata": {},
   "outputs": [
    {
     "data": {
      "text/html": [
       "<div>\n",
       "<style scoped>\n",
       "    .dataframe tbody tr th:only-of-type {\n",
       "        vertical-align: middle;\n",
       "    }\n",
       "\n",
       "    .dataframe tbody tr th {\n",
       "        vertical-align: top;\n",
       "    }\n",
       "\n",
       "    .dataframe thead th {\n",
       "        text-align: right;\n",
       "    }\n",
       "</style>\n",
       "<table border=\"1\" class=\"dataframe\">\n",
       "  <thead>\n",
       "    <tr style=\"text-align: right;\">\n",
       "      <th></th>\n",
       "      <th>Wife_age</th>\n",
       "      <th>No_of_children_born</th>\n",
       "    </tr>\n",
       "  </thead>\n",
       "  <tbody>\n",
       "    <tr>\n",
       "      <th>0</th>\n",
       "      <td>24</td>\n",
       "      <td>3</td>\n",
       "    </tr>\n",
       "    <tr>\n",
       "      <th>1</th>\n",
       "      <td>45</td>\n",
       "      <td>10</td>\n",
       "    </tr>\n",
       "    <tr>\n",
       "      <th>2</th>\n",
       "      <td>43</td>\n",
       "      <td>7</td>\n",
       "    </tr>\n",
       "    <tr>\n",
       "      <th>3</th>\n",
       "      <td>42</td>\n",
       "      <td>9</td>\n",
       "    </tr>\n",
       "    <tr>\n",
       "      <th>4</th>\n",
       "      <td>36</td>\n",
       "      <td>8</td>\n",
       "    </tr>\n",
       "    <tr>\n",
       "      <th>...</th>\n",
       "      <td>...</td>\n",
       "      <td>...</td>\n",
       "    </tr>\n",
       "    <tr>\n",
       "      <th>1468</th>\n",
       "      <td>33</td>\n",
       "      <td>3</td>\n",
       "    </tr>\n",
       "    <tr>\n",
       "      <th>1469</th>\n",
       "      <td>33</td>\n",
       "      <td>3</td>\n",
       "    </tr>\n",
       "    <tr>\n",
       "      <th>1470</th>\n",
       "      <td>39</td>\n",
       "      <td>3</td>\n",
       "    </tr>\n",
       "    <tr>\n",
       "      <th>1471</th>\n",
       "      <td>33</td>\n",
       "      <td>3</td>\n",
       "    </tr>\n",
       "    <tr>\n",
       "      <th>1472</th>\n",
       "      <td>17</td>\n",
       "      <td>1</td>\n",
       "    </tr>\n",
       "  </tbody>\n",
       "</table>\n",
       "<p>1473 rows × 2 columns</p>\n",
       "</div>"
      ],
      "text/plain": [
       "      Wife_age  No_of_children_born\n",
       "0           24                    3\n",
       "1           45                   10\n",
       "2           43                    7\n",
       "3           42                    9\n",
       "4           36                    8\n",
       "...        ...                  ...\n",
       "1468        33                    3\n",
       "1469        33                    3\n",
       "1470        39                    3\n",
       "1471        33                    3\n",
       "1472        17                    1\n",
       "\n",
       "[1473 rows x 2 columns]"
      ]
     },
     "execution_count": 47,
     "metadata": {},
     "output_type": "execute_result"
    }
   ],
   "source": [
    "num[['Wife_age','No_of_children_born']]"
   ]
  },
  {
   "cell_type": "code",
   "execution_count": 48,
   "id": "c2db608b",
   "metadata": {},
   "outputs": [
    {
     "data": {
      "text/html": [
       "<div>\n",
       "<style scoped>\n",
       "    .dataframe tbody tr th:only-of-type {\n",
       "        vertical-align: middle;\n",
       "    }\n",
       "\n",
       "    .dataframe tbody tr th {\n",
       "        vertical-align: top;\n",
       "    }\n",
       "\n",
       "    .dataframe thead th {\n",
       "        text-align: right;\n",
       "    }\n",
       "</style>\n",
       "<table border=\"1\" class=\"dataframe\">\n",
       "  <thead>\n",
       "    <tr style=\"text-align: right;\">\n",
       "      <th></th>\n",
       "      <th>Wife_age</th>\n",
       "      <th>No_of_children_born</th>\n",
       "    </tr>\n",
       "  </thead>\n",
       "  <tbody>\n",
       "    <tr>\n",
       "      <th>Wife_age</th>\n",
       "      <td>1.000000</td>\n",
       "      <td>0.526923</td>\n",
       "    </tr>\n",
       "    <tr>\n",
       "      <th>No_of_children_born</th>\n",
       "      <td>0.526923</td>\n",
       "      <td>1.000000</td>\n",
       "    </tr>\n",
       "  </tbody>\n",
       "</table>\n",
       "</div>"
      ],
      "text/plain": [
       "                     Wife_age  No_of_children_born\n",
       "Wife_age             1.000000             0.526923\n",
       "No_of_children_born  0.526923             1.000000"
      ]
     },
     "execution_count": 48,
     "metadata": {},
     "output_type": "execute_result"
    }
   ],
   "source": [
    "num[['Wife_age','No_of_children_born']].corr()"
   ]
  },
  {
   "cell_type": "code",
   "execution_count": 49,
   "id": "109a2c92",
   "metadata": {
    "scrolled": true
   },
   "outputs": [
    {
     "data": {
      "text/plain": [
       "<seaborn.axisgrid.PairGrid at 0x1562ba812b0>"
      ]
     },
     "execution_count": 49,
     "metadata": {},
     "output_type": "execute_result"
    },
    {
     "data": {
      "image/png": "[encoded data removed]",
      "text/plain": [
       "<Figure size 500x500 with 6 Axes>"
      ]
     },
     "metadata": {},
     "output_type": "display_data"
    }
   ],
   "source": [
    "sns.pairplot(num[['Wife_age','No_of_children_born']])"
   ]
  },
  {
   "cell_type": "code",
   "execution_count": 50,
   "id": "b144d520",
   "metadata": {},
   "outputs": [
    {
     "data": {
      "text/plain": [
       "<AxesSubplot: >"
      ]
     },
     "execution_count": 50,
     "metadata": {},
     "output_type": "execute_result"
    },
    {
     "data": {
      "image/png": "[encoded data removed]",
      "text/plain": [
       "<Figure size 1000x700 with 2 Axes>"
      ]
     },
     "metadata": {},
     "output_type": "display_data"
    }
   ],
   "source": [
    "plt.figure(figsize=(10,7))\n",
    "sns.heatmap(num[['Wife_age','No_of_children_born']].corr(),mask = np.triu(num[['Wife_age','No_of_children_born']].corr(),1),annot=True)"
   ]
  },
  {
   "cell_type": "markdown",
   "id": "f698f0e9",
   "metadata": {},
   "source": [
    "### 2.2 Do not scale the data. Encode the data (having string values) for Modelling. Data Split: Split the data into train and test (70:30). Apply Logistic Regression and build multiple models with different predictors. "
   ]
  },
  {
   "cell_type": "code",
   "execution_count": 51,
   "id": "f08e4e61",
   "metadata": {},
   "outputs": [],
   "source": [
    "# As this is a ordinal scale value we will convert the variable using categorical scale"
   ]
  },
  {
   "cell_type": "code",
   "execution_count": null,
   "id": "ce7fc4d0",
   "metadata": {},
   "outputs": [],
   "source": []
  },
  {
   "cell_type": "code",
   "execution_count": 52,
   "id": "bb867879",
   "metadata": {},
   "outputs": [
    {
     "data": {
      "text/plain": [
       "Very High    609\n",
       "High         418\n",
       "Low          227\n",
       "Very Low     129\n",
       "Name: Standard_of_living_index, dtype: int64"
      ]
     },
     "execution_count": 52,
     "metadata": {},
     "output_type": "execute_result"
    }
   ],
   "source": [
    "data['Standard_of_living_index'].value_counts()"
   ]
  },
  {
   "cell_type": "code",
   "execution_count": 53,
   "id": "41fbb917",
   "metadata": {},
   "outputs": [],
   "source": [
    "data['Standard_of_living_index'] = np.where(data['Standard_of_living_index'] == 'Very Low','0',data['Standard_of_living_index'])\n",
    "data['Standard_of_living_index'] = np.where(data['Standard_of_living_index'] == 'Low','1',data['Standard_of_living_index'])\n",
    "data['Standard_of_living_index'] = np.where(data['Standard_of_living_index'] == 'High','2',data['Standard_of_living_index'])\n",
    "data['Standard_of_living_index'] = np.where(data['Standard_of_living_index'] == 'Very High','3',data['Standard_of_living_index'])"
   ]
  },
  {
   "cell_type": "raw",
   "id": "74b31c60",
   "metadata": {},
   "source": []
  },
  {
   "cell_type": "code",
   "execution_count": 54,
   "id": "fe0a06ca",
   "metadata": {},
   "outputs": [
    {
     "data": {
      "text/plain": [
       "3    609\n",
       "2    418\n",
       "1    227\n",
       "0    129\n",
       "Name: Standard_of_living_index, dtype: int64"
      ]
     },
     "execution_count": 54,
     "metadata": {},
     "output_type": "execute_result"
    }
   ],
   "source": [
    "data['Standard_of_living_index'].value_counts()"
   ]
  },
  {
   "cell_type": "code",
   "execution_count": 55,
   "id": "9643237f",
   "metadata": {},
   "outputs": [],
   "source": [
    "data['Standard_of_living_index'] = data['Standard_of_living_index'].astype('float64')"
   ]
  },
  {
   "cell_type": "code",
   "execution_count": 56,
   "id": "94c2bead",
   "metadata": {},
   "outputs": [],
   "source": [
    "data = pd.get_dummies(data, columns=['Wife_religion','Wife_Working','Media_exposure','Contraceptive_method_used','Wife_education','Husband_education'], drop_first=True)\n"
   ]
  },
  {
   "cell_type": "code",
   "execution_count": 57,
   "id": "20c7f7c3",
   "metadata": {},
   "outputs": [
    {
     "data": {
      "text/html": [
       "<div>\n",
       "<style scoped>\n",
       "    .dataframe tbody tr th:only-of-type {\n",
       "        vertical-align: middle;\n",
       "    }\n",
       "\n",
       "    .dataframe tbody tr th {\n",
       "        vertical-align: top;\n",
       "    }\n",
       "\n",
       "    .dataframe thead th {\n",
       "        text-align: right;\n",
       "    }\n",
       "</style>\n",
       "<table border=\"1\" class=\"dataframe\">\n",
       "  <thead>\n",
       "    <tr style=\"text-align: right;\">\n",
       "      <th></th>\n",
       "      <th>Wife_age</th>\n",
       "      <th>No_of_children_born</th>\n",
       "      <th>Husband_Occupation</th>\n",
       "      <th>Standard_of_living_index</th>\n",
       "      <th>Wife_religion_Scientology</th>\n",
       "      <th>Wife_Working_Yes</th>\n",
       "      <th>Media_exposure_Not-Exposed</th>\n",
       "      <th>Contraceptive_method_used_Yes</th>\n",
       "      <th>Wife_education_Secondary</th>\n",
       "      <th>Wife_education_Tertiary</th>\n",
       "      <th>Wife_education_Uneducated</th>\n",
       "      <th>Husband_education_Secondary</th>\n",
       "      <th>Husband_education_Tertiary</th>\n",
       "      <th>Husband_education_Uneducated</th>\n",
       "    </tr>\n",
       "  </thead>\n",
       "  <tbody>\n",
       "    <tr>\n",
       "      <th>0</th>\n",
       "      <td>24</td>\n",
       "      <td>3.0</td>\n",
       "      <td>2</td>\n",
       "      <td>2.0</td>\n",
       "      <td>1</td>\n",
       "      <td>0</td>\n",
       "      <td>0</td>\n",
       "      <td>0</td>\n",
       "      <td>0</td>\n",
       "      <td>0</td>\n",
       "      <td>0</td>\n",
       "      <td>1</td>\n",
       "      <td>0</td>\n",
       "      <td>0</td>\n",
       "    </tr>\n",
       "    <tr>\n",
       "      <th>1</th>\n",
       "      <td>45</td>\n",
       "      <td>5.5</td>\n",
       "      <td>3</td>\n",
       "      <td>3.0</td>\n",
       "      <td>1</td>\n",
       "      <td>0</td>\n",
       "      <td>0</td>\n",
       "      <td>0</td>\n",
       "      <td>0</td>\n",
       "      <td>0</td>\n",
       "      <td>1</td>\n",
       "      <td>1</td>\n",
       "      <td>0</td>\n",
       "      <td>0</td>\n",
       "    </tr>\n",
       "    <tr>\n",
       "      <th>2</th>\n",
       "      <td>43</td>\n",
       "      <td>5.5</td>\n",
       "      <td>3</td>\n",
       "      <td>3.0</td>\n",
       "      <td>1</td>\n",
       "      <td>0</td>\n",
       "      <td>0</td>\n",
       "      <td>0</td>\n",
       "      <td>0</td>\n",
       "      <td>0</td>\n",
       "      <td>0</td>\n",
       "      <td>1</td>\n",
       "      <td>0</td>\n",
       "      <td>0</td>\n",
       "    </tr>\n",
       "    <tr>\n",
       "      <th>3</th>\n",
       "      <td>42</td>\n",
       "      <td>5.5</td>\n",
       "      <td>3</td>\n",
       "      <td>2.0</td>\n",
       "      <td>1</td>\n",
       "      <td>0</td>\n",
       "      <td>0</td>\n",
       "      <td>0</td>\n",
       "      <td>1</td>\n",
       "      <td>0</td>\n",
       "      <td>0</td>\n",
       "      <td>0</td>\n",
       "      <td>0</td>\n",
       "      <td>0</td>\n",
       "    </tr>\n",
       "    <tr>\n",
       "      <th>4</th>\n",
       "      <td>36</td>\n",
       "      <td>5.5</td>\n",
       "      <td>3</td>\n",
       "      <td>1.0</td>\n",
       "      <td>1</td>\n",
       "      <td>0</td>\n",
       "      <td>0</td>\n",
       "      <td>0</td>\n",
       "      <td>1</td>\n",
       "      <td>0</td>\n",
       "      <td>0</td>\n",
       "      <td>1</td>\n",
       "      <td>0</td>\n",
       "      <td>0</td>\n",
       "    </tr>\n",
       "  </tbody>\n",
       "</table>\n",
       "</div>"
      ],
      "text/plain": [
       "   Wife_age  No_of_children_born  Husband_Occupation  \\\n",
       "0        24                  3.0                   2   \n",
       "1        45                  5.5                   3   \n",
       "2        43                  5.5                   3   \n",
       "3        42                  5.5                   3   \n",
       "4        36                  5.5                   3   \n",
       "\n",
       "   Standard_of_living_index  Wife_religion_Scientology  Wife_Working_Yes  \\\n",
       "0                       2.0                          1                 0   \n",
       "1                       3.0                          1                 0   \n",
       "2                       3.0                          1                 0   \n",
       "3                       2.0                          1                 0   \n",
       "4                       1.0                          1                 0   \n",
       "\n",
       "   Media_exposure_Not-Exposed  Contraceptive_method_used_Yes  \\\n",
       "0                           0                              0   \n",
       "1                           0                              0   \n",
       "2                           0                              0   \n",
       "3                           0                              0   \n",
       "4                           0                              0   \n",
       "\n",
       "   Wife_education_Secondary  Wife_education_Tertiary  \\\n",
       "0                         0                        0   \n",
       "1                         0                        0   \n",
       "2                         0                        0   \n",
       "3                         1                        0   \n",
       "4                         1                        0   \n",
       "\n",
       "   Wife_education_Uneducated  Husband_education_Secondary  \\\n",
       "0                          0                            1   \n",
       "1                          1                            1   \n",
       "2                          0                            1   \n",
       "3                          0                            0   \n",
       "4                          0                            1   \n",
       "\n",
       "   Husband_education_Tertiary  Husband_education_Uneducated  \n",
       "0                           0                             0  \n",
       "1                           0                             0  \n",
       "2                           0                             0  \n",
       "3                           0                             0  \n",
       "4                           0                             0  "
      ]
     },
     "execution_count": 57,
     "metadata": {},
     "output_type": "execute_result"
    }
   ],
   "source": [
    "data.head()"
   ]
  },
  {
   "cell_type": "code",
   "execution_count": 58,
   "id": "b321f674",
   "metadata": {},
   "outputs": [
    {
     "data": {
      "text/plain": [
       "Wife_age                           int64\n",
       "No_of_children_born              float64\n",
       "Husband_Occupation                 int64\n",
       "Standard_of_living_index         float64\n",
       "Wife_religion_Scientology          uint8\n",
       "Wife_Working_Yes                   uint8\n",
       "Media_exposure_Not-Exposed         uint8\n",
       "Contraceptive_method_used_Yes      uint8\n",
       "Wife_education_Secondary           uint8\n",
       "Wife_education_Tertiary            uint8\n",
       "Wife_education_Uneducated          uint8\n",
       "Husband_education_Secondary        uint8\n",
       "Husband_education_Tertiary         uint8\n",
       "Husband_education_Uneducated       uint8\n",
       "dtype: object"
      ]
     },
     "execution_count": 58,
     "metadata": {},
     "output_type": "execute_result"
    }
   ],
   "source": [
    "data.dtypes"
   ]
  },
  {
   "cell_type": "code",
   "execution_count": 59,
   "id": "87bfe10b",
   "metadata": {},
   "outputs": [
    {
     "data": {
      "text/plain": [
       "<matplotlib.lines.Line2D at 0x1562b8b56a0>"
      ]
     },
     "execution_count": 59,
     "metadata": {},
     "output_type": "execute_result"
    },
    {
     "data": {
      "image/png": "[encoded data removed]",
      "text/plain": [
       "<Figure size 1000x700 with 1 Axes>"
      ]
     },
     "metadata": {},
     "output_type": "display_data"
    }
   ],
   "source": [
    "data['Wife_age'].plot(kind='kde')\n",
    "plt.axvline(data['Wife_age'].median())\n",
    "plt.axvline(data['Wife_age'].mean(),color = 'red',linestyle = 'dashed')"
   ]
  },
  {
   "cell_type": "code",
   "execution_count": 60,
   "id": "95d49024",
   "metadata": {},
   "outputs": [
    {
     "data": {
      "text/plain": [
       "<matplotlib.lines.Line2D at 0x1562b7f54c0>"
      ]
     },
     "execution_count": 60,
     "metadata": {},
     "output_type": "execute_result"
    },
    {
     "data": {
      "image/png": "[encoded data removed]",
      "text/plain": [
       "<Figure size 1000x700 with 1 Axes>"
      ]
     },
     "metadata": {},
     "output_type": "display_data"
    }
   ],
   "source": [
    "data['No_of_children_born'].plot(kind='kde')\n",
    "plt.axvline(data['No_of_children_born'].median())\n",
    "plt.axvline(data['No_of_children_born'].mean(),color = 'red',linestyle = 'dashed')"
   ]
  },
  {
   "cell_type": "code",
   "execution_count": 61,
   "id": "92d184d5",
   "metadata": {},
   "outputs": [
    {
     "data": {
      "text/plain": [
       "Series([], dtype: int64)"
      ]
     },
     "execution_count": 61,
     "metadata": {},
     "output_type": "execute_result"
    }
   ],
   "source": [
    "data.isnull().sum()[data.isnull().sum()>0]"
   ]
  },
  {
   "cell_type": "code",
   "execution_count": 62,
   "id": "9047266d",
   "metadata": {},
   "outputs": [],
   "source": [
    "data.rename(columns={'Media_exposure_Not-Exposed':'Media_exposure_Not_Exposed'},inplace=True)"
   ]
  },
  {
   "cell_type": "code",
   "execution_count": 63,
   "id": "f3822ce5",
   "metadata": {},
   "outputs": [
    {
     "data": {
      "text/html": [
       "<div>\n",
       "<style scoped>\n",
       "    .dataframe tbody tr th:only-of-type {\n",
       "        vertical-align: middle;\n",
       "    }\n",
       "\n",
       "    .dataframe tbody tr th {\n",
       "        vertical-align: top;\n",
       "    }\n",
       "\n",
       "    .dataframe thead th {\n",
       "        text-align: right;\n",
       "    }\n",
       "</style>\n",
       "<table border=\"1\" class=\"dataframe\">\n",
       "  <thead>\n",
       "    <tr style=\"text-align: right;\">\n",
       "      <th></th>\n",
       "      <th>Wife_age</th>\n",
       "      <th>No_of_children_born</th>\n",
       "      <th>Husband_Occupation</th>\n",
       "      <th>Standard_of_living_index</th>\n",
       "      <th>Wife_religion_Scientology</th>\n",
       "      <th>Wife_Working_Yes</th>\n",
       "      <th>Media_exposure_Not_Exposed</th>\n",
       "      <th>Contraceptive_method_used_Yes</th>\n",
       "      <th>Wife_education_Secondary</th>\n",
       "      <th>Wife_education_Tertiary</th>\n",
       "      <th>Wife_education_Uneducated</th>\n",
       "      <th>Husband_education_Secondary</th>\n",
       "      <th>Husband_education_Tertiary</th>\n",
       "      <th>Husband_education_Uneducated</th>\n",
       "    </tr>\n",
       "  </thead>\n",
       "  <tbody>\n",
       "    <tr>\n",
       "      <th>0</th>\n",
       "      <td>24</td>\n",
       "      <td>3.0</td>\n",
       "      <td>2</td>\n",
       "      <td>2.0</td>\n",
       "      <td>1</td>\n",
       "      <td>0</td>\n",
       "      <td>0</td>\n",
       "      <td>0</td>\n",
       "      <td>0</td>\n",
       "      <td>0</td>\n",
       "      <td>0</td>\n",
       "      <td>1</td>\n",
       "      <td>0</td>\n",
       "      <td>0</td>\n",
       "    </tr>\n",
       "    <tr>\n",
       "      <th>1</th>\n",
       "      <td>45</td>\n",
       "      <td>5.5</td>\n",
       "      <td>3</td>\n",
       "      <td>3.0</td>\n",
       "      <td>1</td>\n",
       "      <td>0</td>\n",
       "      <td>0</td>\n",
       "      <td>0</td>\n",
       "      <td>0</td>\n",
       "      <td>0</td>\n",
       "      <td>1</td>\n",
       "      <td>1</td>\n",
       "      <td>0</td>\n",
       "      <td>0</td>\n",
       "    </tr>\n",
       "    <tr>\n",
       "      <th>2</th>\n",
       "      <td>43</td>\n",
       "      <td>5.5</td>\n",
       "      <td>3</td>\n",
       "      <td>3.0</td>\n",
       "      <td>1</td>\n",
       "      <td>0</td>\n",
       "      <td>0</td>\n",
       "      <td>0</td>\n",
       "      <td>0</td>\n",
       "      <td>0</td>\n",
       "      <td>0</td>\n",
       "      <td>1</td>\n",
       "      <td>0</td>\n",
       "      <td>0</td>\n",
       "    </tr>\n",
       "    <tr>\n",
       "      <th>3</th>\n",
       "      <td>42</td>\n",
       "      <td>5.5</td>\n",
       "      <td>3</td>\n",
       "      <td>2.0</td>\n",
       "      <td>1</td>\n",
       "      <td>0</td>\n",
       "      <td>0</td>\n",
       "      <td>0</td>\n",
       "      <td>1</td>\n",
       "      <td>0</td>\n",
       "      <td>0</td>\n",
       "      <td>0</td>\n",
       "      <td>0</td>\n",
       "      <td>0</td>\n",
       "    </tr>\n",
       "    <tr>\n",
       "      <th>4</th>\n",
       "      <td>36</td>\n",
       "      <td>5.5</td>\n",
       "      <td>3</td>\n",
       "      <td>1.0</td>\n",
       "      <td>1</td>\n",
       "      <td>0</td>\n",
       "      <td>0</td>\n",
       "      <td>0</td>\n",
       "      <td>1</td>\n",
       "      <td>0</td>\n",
       "      <td>0</td>\n",
       "      <td>1</td>\n",
       "      <td>0</td>\n",
       "      <td>0</td>\n",
       "    </tr>\n",
       "  </tbody>\n",
       "</table>\n",
       "</div>"
      ],
      "text/plain": [
       "   Wife_age  No_of_children_born  Husband_Occupation  \\\n",
       "0        24                  3.0                   2   \n",
       "1        45                  5.5                   3   \n",
       "2        43                  5.5                   3   \n",
       "3        42                  5.5                   3   \n",
       "4        36                  5.5                   3   \n",
       "\n",
       "   Standard_of_living_index  Wife_religion_Scientology  Wife_Working_Yes  \\\n",
       "0                       2.0                          1                 0   \n",
       "1                       3.0                          1                 0   \n",
       "2                       3.0                          1                 0   \n",
       "3                       2.0                          1                 0   \n",
       "4                       1.0                          1                 0   \n",
       "\n",
       "   Media_exposure_Not_Exposed  Contraceptive_method_used_Yes  \\\n",
       "0                           0                              0   \n",
       "1                           0                              0   \n",
       "2                           0                              0   \n",
       "3                           0                              0   \n",
       "4                           0                              0   \n",
       "\n",
       "   Wife_education_Secondary  Wife_education_Tertiary  \\\n",
       "0                         0                        0   \n",
       "1                         0                        0   \n",
       "2                         0                        0   \n",
       "3                         1                        0   \n",
       "4                         1                        0   \n",
       "\n",
       "   Wife_education_Uneducated  Husband_education_Secondary  \\\n",
       "0                          0                            1   \n",
       "1                          1                            1   \n",
       "2                          0                            1   \n",
       "3                          0                            0   \n",
       "4                          0                            1   \n",
       "\n",
       "   Husband_education_Tertiary  Husband_education_Uneducated  \n",
       "0                           0                             0  \n",
       "1                           0                             0  \n",
       "2                           0                             0  \n",
       "3                           0                             0  \n",
       "4                           0                             0  "
      ]
     },
     "execution_count": 63,
     "metadata": {},
     "output_type": "execute_result"
    }
   ],
   "source": [
    "data.head()"
   ]
  },
  {
   "cell_type": "code",
   "execution_count": 64,
   "id": "18c1d401",
   "metadata": {},
   "outputs": [],
   "source": [
    "import statsmodels.formula.api as sm"
   ]
  },
  {
   "cell_type": "code",
   "execution_count": 65,
   "id": "6db6e433",
   "metadata": {},
   "outputs": [],
   "source": [
    "from sklearn.model_selection import train_test_split"
   ]
  },
  {
   "cell_type": "code",
   "execution_count": 66,
   "id": "c597582e",
   "metadata": {},
   "outputs": [],
   "source": [
    "# independent variables\n",
    "X = data.drop(['Contraceptive_method_used_Yes'], axis=1)\n",
    "# dependent variable\n",
    "y = data['Contraceptive_method_used_Yes']"
   ]
  },
  {
   "cell_type": "code",
   "execution_count": 67,
   "id": "c15fadd8",
   "metadata": {},
   "outputs": [],
   "source": [
    "X_train, X_test, y_train, y_test = train_test_split(X, y, test_size=0.30, random_state=1)"
   ]
  },
  {
   "cell_type": "code",
   "execution_count": 68,
   "id": "961ef54b",
   "metadata": {},
   "outputs": [
    {
     "data": {
      "text/html": [
       "<div>\n",
       "<style scoped>\n",
       "    .dataframe tbody tr th:only-of-type {\n",
       "        vertical-align: middle;\n",
       "    }\n",
       "\n",
       "    .dataframe tbody tr th {\n",
       "        vertical-align: top;\n",
       "    }\n",
       "\n",
       "    .dataframe thead th {\n",
       "        text-align: right;\n",
       "    }\n",
       "</style>\n",
       "<table border=\"1\" class=\"dataframe\">\n",
       "  <thead>\n",
       "    <tr style=\"text-align: right;\">\n",
       "      <th></th>\n",
       "      <th>Wife_age</th>\n",
       "      <th>No_of_children_born</th>\n",
       "      <th>Husband_Occupation</th>\n",
       "      <th>Standard_of_living_index</th>\n",
       "      <th>Wife_religion_Scientology</th>\n",
       "      <th>Wife_Working_Yes</th>\n",
       "      <th>Media_exposure_Not_Exposed</th>\n",
       "      <th>Wife_education_Secondary</th>\n",
       "      <th>Wife_education_Tertiary</th>\n",
       "      <th>Wife_education_Uneducated</th>\n",
       "      <th>Husband_education_Secondary</th>\n",
       "      <th>Husband_education_Tertiary</th>\n",
       "      <th>Husband_education_Uneducated</th>\n",
       "    </tr>\n",
       "  </thead>\n",
       "  <tbody>\n",
       "    <tr>\n",
       "      <th>407</th>\n",
       "      <td>47</td>\n",
       "      <td>2.0</td>\n",
       "      <td>2</td>\n",
       "      <td>3.0</td>\n",
       "      <td>1</td>\n",
       "      <td>0</td>\n",
       "      <td>0</td>\n",
       "      <td>1</td>\n",
       "      <td>0</td>\n",
       "      <td>0</td>\n",
       "      <td>1</td>\n",
       "      <td>0</td>\n",
       "      <td>0</td>\n",
       "    </tr>\n",
       "    <tr>\n",
       "      <th>454</th>\n",
       "      <td>36</td>\n",
       "      <td>2.0</td>\n",
       "      <td>2</td>\n",
       "      <td>3.0</td>\n",
       "      <td>1</td>\n",
       "      <td>0</td>\n",
       "      <td>0</td>\n",
       "      <td>0</td>\n",
       "      <td>1</td>\n",
       "      <td>0</td>\n",
       "      <td>0</td>\n",
       "      <td>1</td>\n",
       "      <td>0</td>\n",
       "    </tr>\n",
       "    <tr>\n",
       "      <th>1290</th>\n",
       "      <td>26</td>\n",
       "      <td>4.0</td>\n",
       "      <td>3</td>\n",
       "      <td>3.0</td>\n",
       "      <td>1</td>\n",
       "      <td>0</td>\n",
       "      <td>0</td>\n",
       "      <td>0</td>\n",
       "      <td>0</td>\n",
       "      <td>0</td>\n",
       "      <td>0</td>\n",
       "      <td>0</td>\n",
       "      <td>0</td>\n",
       "    </tr>\n",
       "    <tr>\n",
       "      <th>653</th>\n",
       "      <td>48</td>\n",
       "      <td>5.5</td>\n",
       "      <td>1</td>\n",
       "      <td>3.0</td>\n",
       "      <td>1</td>\n",
       "      <td>0</td>\n",
       "      <td>0</td>\n",
       "      <td>0</td>\n",
       "      <td>1</td>\n",
       "      <td>0</td>\n",
       "      <td>0</td>\n",
       "      <td>1</td>\n",
       "      <td>0</td>\n",
       "    </tr>\n",
       "    <tr>\n",
       "      <th>727</th>\n",
       "      <td>21</td>\n",
       "      <td>1.0</td>\n",
       "      <td>3</td>\n",
       "      <td>1.0</td>\n",
       "      <td>1</td>\n",
       "      <td>1</td>\n",
       "      <td>0</td>\n",
       "      <td>0</td>\n",
       "      <td>0</td>\n",
       "      <td>0</td>\n",
       "      <td>1</td>\n",
       "      <td>0</td>\n",
       "      <td>0</td>\n",
       "    </tr>\n",
       "  </tbody>\n",
       "</table>\n",
       "</div>"
      ],
      "text/plain": [
       "      Wife_age  No_of_children_born  Husband_Occupation  \\\n",
       "407         47                  2.0                   2   \n",
       "454         36                  2.0                   2   \n",
       "1290        26                  4.0                   3   \n",
       "653         48                  5.5                   1   \n",
       "727         21                  1.0                   3   \n",
       "\n",
       "      Standard_of_living_index  Wife_religion_Scientology  Wife_Working_Yes  \\\n",
       "407                        3.0                          1                 0   \n",
       "454                        3.0                          1                 0   \n",
       "1290                       3.0                          1                 0   \n",
       "653                        3.0                          1                 0   \n",
       "727                        1.0                          1                 1   \n",
       "\n",
       "      Media_exposure_Not_Exposed  Wife_education_Secondary  \\\n",
       "407                            0                         1   \n",
       "454                            0                         0   \n",
       "1290                           0                         0   \n",
       "653                            0                         0   \n",
       "727                            0                         0   \n",
       "\n",
       "      Wife_education_Tertiary  Wife_education_Uneducated  \\\n",
       "407                         0                          0   \n",
       "454                         1                          0   \n",
       "1290                        0                          0   \n",
       "653                         1                          0   \n",
       "727                         0                          0   \n",
       "\n",
       "      Husband_education_Secondary  Husband_education_Tertiary  \\\n",
       "407                             1                           0   \n",
       "454                             0                           1   \n",
       "1290                            0                           0   \n",
       "653                             0                           1   \n",
       "727                             1                           0   \n",
       "\n",
       "      Husband_education_Uneducated  \n",
       "407                              0  \n",
       "454                              0  \n",
       "1290                             0  \n",
       "653                              0  \n",
       "727                              0  "
      ]
     },
     "execution_count": 68,
     "metadata": {},
     "output_type": "execute_result"
    }
   ],
   "source": [
    "X_train.head()"
   ]
  },
  {
   "cell_type": "code",
   "execution_count": 69,
   "id": "7533bec9",
   "metadata": {},
   "outputs": [
    {
     "data": {
      "text/html": [
       "<div>\n",
       "<style scoped>\n",
       "    .dataframe tbody tr th:only-of-type {\n",
       "        vertical-align: middle;\n",
       "    }\n",
       "\n",
       "    .dataframe tbody tr th {\n",
       "        vertical-align: top;\n",
       "    }\n",
       "\n",
       "    .dataframe thead th {\n",
       "        text-align: right;\n",
       "    }\n",
       "</style>\n",
       "<table border=\"1\" class=\"dataframe\">\n",
       "  <thead>\n",
       "    <tr style=\"text-align: right;\">\n",
       "      <th></th>\n",
       "      <th>Wife_age</th>\n",
       "      <th>No_of_children_born</th>\n",
       "      <th>Husband_Occupation</th>\n",
       "      <th>Standard_of_living_index</th>\n",
       "      <th>Wife_religion_Scientology</th>\n",
       "      <th>Wife_Working_Yes</th>\n",
       "      <th>Media_exposure_Not_Exposed</th>\n",
       "      <th>Wife_education_Secondary</th>\n",
       "      <th>Wife_education_Tertiary</th>\n",
       "      <th>Wife_education_Uneducated</th>\n",
       "      <th>Husband_education_Secondary</th>\n",
       "      <th>Husband_education_Tertiary</th>\n",
       "      <th>Husband_education_Uneducated</th>\n",
       "    </tr>\n",
       "  </thead>\n",
       "  <tbody>\n",
       "    <tr>\n",
       "      <th>1041</th>\n",
       "      <td>24</td>\n",
       "      <td>2.0</td>\n",
       "      <td>3</td>\n",
       "      <td>1.0</td>\n",
       "      <td>1</td>\n",
       "      <td>1</td>\n",
       "      <td>0</td>\n",
       "      <td>1</td>\n",
       "      <td>0</td>\n",
       "      <td>0</td>\n",
       "      <td>1</td>\n",
       "      <td>0</td>\n",
       "      <td>0</td>\n",
       "    </tr>\n",
       "    <tr>\n",
       "      <th>726</th>\n",
       "      <td>24</td>\n",
       "      <td>1.0</td>\n",
       "      <td>1</td>\n",
       "      <td>2.0</td>\n",
       "      <td>1</td>\n",
       "      <td>0</td>\n",
       "      <td>0</td>\n",
       "      <td>0</td>\n",
       "      <td>1</td>\n",
       "      <td>0</td>\n",
       "      <td>0</td>\n",
       "      <td>1</td>\n",
       "      <td>0</td>\n",
       "    </tr>\n",
       "    <tr>\n",
       "      <th>808</th>\n",
       "      <td>29</td>\n",
       "      <td>4.0</td>\n",
       "      <td>2</td>\n",
       "      <td>3.0</td>\n",
       "      <td>1</td>\n",
       "      <td>1</td>\n",
       "      <td>0</td>\n",
       "      <td>0</td>\n",
       "      <td>0</td>\n",
       "      <td>0</td>\n",
       "      <td>0</td>\n",
       "      <td>1</td>\n",
       "      <td>0</td>\n",
       "    </tr>\n",
       "    <tr>\n",
       "      <th>1108</th>\n",
       "      <td>30</td>\n",
       "      <td>1.0</td>\n",
       "      <td>2</td>\n",
       "      <td>0.0</td>\n",
       "      <td>1</td>\n",
       "      <td>0</td>\n",
       "      <td>0</td>\n",
       "      <td>0</td>\n",
       "      <td>0</td>\n",
       "      <td>0</td>\n",
       "      <td>1</td>\n",
       "      <td>0</td>\n",
       "      <td>0</td>\n",
       "    </tr>\n",
       "    <tr>\n",
       "      <th>60</th>\n",
       "      <td>42</td>\n",
       "      <td>5.5</td>\n",
       "      <td>3</td>\n",
       "      <td>2.0</td>\n",
       "      <td>1</td>\n",
       "      <td>0</td>\n",
       "      <td>0</td>\n",
       "      <td>1</td>\n",
       "      <td>0</td>\n",
       "      <td>0</td>\n",
       "      <td>1</td>\n",
       "      <td>0</td>\n",
       "      <td>0</td>\n",
       "    </tr>\n",
       "  </tbody>\n",
       "</table>\n",
       "</div>"
      ],
      "text/plain": [
       "      Wife_age  No_of_children_born  Husband_Occupation  \\\n",
       "1041        24                  2.0                   3   \n",
       "726         24                  1.0                   1   \n",
       "808         29                  4.0                   2   \n",
       "1108        30                  1.0                   2   \n",
       "60          42                  5.5                   3   \n",
       "\n",
       "      Standard_of_living_index  Wife_religion_Scientology  Wife_Working_Yes  \\\n",
       "1041                       1.0                          1                 1   \n",
       "726                        2.0                          1                 0   \n",
       "808                        3.0                          1                 1   \n",
       "1108                       0.0                          1                 0   \n",
       "60                         2.0                          1                 0   \n",
       "\n",
       "      Media_exposure_Not_Exposed  Wife_education_Secondary  \\\n",
       "1041                           0                         1   \n",
       "726                            0                         0   \n",
       "808                            0                         0   \n",
       "1108                           0                         0   \n",
       "60                             0                         1   \n",
       "\n",
       "      Wife_education_Tertiary  Wife_education_Uneducated  \\\n",
       "1041                        0                          0   \n",
       "726                         1                          0   \n",
       "808                         0                          0   \n",
       "1108                        0                          0   \n",
       "60                          0                          0   \n",
       "\n",
       "      Husband_education_Secondary  Husband_education_Tertiary  \\\n",
       "1041                            1                           0   \n",
       "726                             0                           1   \n",
       "808                             0                           1   \n",
       "1108                            1                           0   \n",
       "60                              1                           0   \n",
       "\n",
       "      Husband_education_Uneducated  \n",
       "1041                             0  \n",
       "726                              0  \n",
       "808                              0  \n",
       "1108                             0  \n",
       "60                               0  "
      ]
     },
     "execution_count": 69,
     "metadata": {},
     "output_type": "execute_result"
    }
   ],
   "source": [
    "X_test.head()"
   ]
  },
  {
   "cell_type": "code",
   "execution_count": 70,
   "id": "187e3c97",
   "metadata": {},
   "outputs": [
    {
     "data": {
      "text/plain": [
       "407     0\n",
       "454     1\n",
       "1290    1\n",
       "653     1\n",
       "727     1\n",
       "Name: Contraceptive_method_used_Yes, dtype: uint8"
      ]
     },
     "execution_count": 70,
     "metadata": {},
     "output_type": "execute_result"
    }
   ],
   "source": [
    "y_train.head()"
   ]
  },
  {
   "cell_type": "code",
   "execution_count": 71,
   "id": "14d0f06c",
   "metadata": {},
   "outputs": [
    {
     "data": {
      "text/plain": [
       "1041    0\n",
       "726     1\n",
       "808     1\n",
       "1108    0\n",
       "60      0\n",
       "Name: Contraceptive_method_used_Yes, dtype: uint8"
      ]
     },
     "execution_count": 71,
     "metadata": {},
     "output_type": "execute_result"
    }
   ],
   "source": [
    "y_test.head()"
   ]
  },
  {
   "cell_type": "code",
   "execution_count": 72,
   "id": "2e2c8688",
   "metadata": {},
   "outputs": [],
   "source": [
    "import statsmodels.formula.api as sm"
   ]
  },
  {
   "cell_type": "code",
   "execution_count": 73,
   "id": "12d8465a",
   "metadata": {},
   "outputs": [],
   "source": [
    "X_col = X.columns"
   ]
  },
  {
   "cell_type": "code",
   "execution_count": 74,
   "id": "4a6adcd9",
   "metadata": {},
   "outputs": [
    {
     "data": {
      "text/plain": [
       "Index(['Wife_age', 'No_of_children_born', 'Husband_Occupation',\n",
       "       'Standard_of_living_index', 'Wife_religion_Scientology',\n",
       "       'Wife_Working_Yes', 'Media_exposure_Not_Exposed',\n",
       "       'Wife_education_Secondary', 'Wife_education_Tertiary',\n",
       "       'Wife_education_Uneducated', 'Husband_education_Secondary',\n",
       "       'Husband_education_Tertiary', 'Husband_education_Uneducated'],\n",
       "      dtype='object')"
      ]
     },
     "execution_count": 74,
     "metadata": {},
     "output_type": "execute_result"
    }
   ],
   "source": [
    "X_col"
   ]
  },
  {
   "cell_type": "code",
   "execution_count": 75,
   "id": "c39aa462",
   "metadata": {},
   "outputs": [],
   "source": [
    "fo_1 = 'Contraceptive_method_used_Yes~Wife_age+No_of_children_born+Husband_Occupation+Standard_of_living_index+Wife_religion_Scientology+Wife_Working_Yes+Media_exposure_Not_Exposed+Wife_education_Secondary+Wife_education_Tertiary+Wife_education_Uneducated+Husband_education_Secondary+Husband_education_Tertiary+Husband_education_Uneducated'"
   ]
  },
  {
   "cell_type": "code",
   "execution_count": null,
   "id": "f2147932",
   "metadata": {},
   "outputs": [],
   "source": []
  },
  {
   "cell_type": "code",
   "execution_count": 76,
   "id": "58de8b14",
   "metadata": {},
   "outputs": [
    {
     "name": "stdout",
     "output_type": "stream",
     "text": [
      "Optimization terminated successfully.\n",
      "         Current function value: 0.586359\n",
      "         Iterations 6\n"
     ]
    }
   ],
   "source": [
    "base_model_stats = sm.logit(formula=fo_1,data = data).fit()"
   ]
  },
  {
   "cell_type": "code",
   "execution_count": 77,
   "id": "ed6ccadf",
   "metadata": {},
   "outputs": [
    {
     "data": {
      "text/html": [
       "<table class=\"simpletable\">\n",
       "<caption>Logit Regression Results</caption>\n",
       "<tr>\n",
       "  <th>Dep. Variable:</th>   <td>Contraceptive_method_used_Yes</td> <th>  No. Observations:  </th>  <td>  1383</td>  \n",
       "</tr>\n",
       "<tr>\n",
       "  <th>Model:</th>                       <td>Logit</td>             <th>  Df Residuals:      </th>  <td>  1369</td>  \n",
       "</tr>\n",
       "<tr>\n",
       "  <th>Method:</th>                       <td>MLE</td>              <th>  Df Model:          </th>  <td>    13</td>  \n",
       "</tr>\n",
       "<tr>\n",
       "  <th>Date:</th>                  <td>Sun, 12 Feb 2023</td>        <th>  Pseudo R-squ.:     </th>  <td>0.1461</td>  \n",
       "</tr>\n",
       "<tr>\n",
       "  <th>Time:</th>                      <td>17:40:06</td>            <th>  Log-Likelihood:    </th> <td> -810.93</td> \n",
       "</tr>\n",
       "<tr>\n",
       "  <th>converged:</th>                   <td>True</td>              <th>  LL-Null:           </th> <td> -949.69</td> \n",
       "</tr>\n",
       "<tr>\n",
       "  <th>Covariance Type:</th>           <td>nonrobust</td>           <th>  LLR p-value:       </th> <td>1.200e-51</td>\n",
       "</tr>\n",
       "</table>\n",
       "<table class=\"simpletable\">\n",
       "<tr>\n",
       "                <td></td>                  <th>coef</th>     <th>std err</th>      <th>z</th>      <th>P>|z|</th>  <th>[0.025</th>    <th>0.975]</th>  \n",
       "</tr>\n",
       "<tr>\n",
       "  <th>Intercept</th>                    <td>    0.7162</td> <td>    0.466</td> <td>    1.537</td> <td> 0.124</td> <td>   -0.197</td> <td>    1.629</td>\n",
       "</tr>\n",
       "<tr>\n",
       "  <th>Wife_age</th>                     <td>   -0.0959</td> <td>    0.010</td> <td>   -9.314</td> <td> 0.000</td> <td>   -0.116</td> <td>   -0.076</td>\n",
       "</tr>\n",
       "<tr>\n",
       "  <th>No_of_children_born</th>          <td>    0.5702</td> <td>    0.048</td> <td>   11.814</td> <td> 0.000</td> <td>    0.476</td> <td>    0.665</td>\n",
       "</tr>\n",
       "<tr>\n",
       "  <th>Husband_Occupation</th>           <td>    0.1228</td> <td>    0.080</td> <td>    1.529</td> <td> 0.126</td> <td>   -0.035</td> <td>    0.280</td>\n",
       "</tr>\n",
       "<tr>\n",
       "  <th>Standard_of_living_index</th>     <td>    0.2360</td> <td>    0.070</td> <td>    3.395</td> <td> 0.001</td> <td>    0.100</td> <td>    0.372</td>\n",
       "</tr>\n",
       "<tr>\n",
       "  <th>Wife_religion_Scientology</th>    <td>   -0.4298</td> <td>    0.180</td> <td>   -2.386</td> <td> 0.017</td> <td>   -0.783</td> <td>   -0.077</td>\n",
       "</tr>\n",
       "<tr>\n",
       "  <th>Wife_Working_Yes</th>             <td>   -0.0846</td> <td>    0.140</td> <td>   -0.604</td> <td> 0.546</td> <td>   -0.359</td> <td>    0.190</td>\n",
       "</tr>\n",
       "<tr>\n",
       "  <th>Media_exposure_Not_Exposed</th>   <td>   -0.5128</td> <td>    0.255</td> <td>   -2.015</td> <td> 0.044</td> <td>   -1.012</td> <td>   -0.014</td>\n",
       "</tr>\n",
       "<tr>\n",
       "  <th>Wife_education_Secondary</th>     <td>    0.5213</td> <td>    0.171</td> <td>    3.044</td> <td> 0.002</td> <td>    0.186</td> <td>    0.857</td>\n",
       "</tr>\n",
       "<tr>\n",
       "  <th>Wife_education_Tertiary</th>      <td>    1.2388</td> <td>    0.199</td> <td>    6.240</td> <td> 0.000</td> <td>    0.850</td> <td>    1.628</td>\n",
       "</tr>\n",
       "<tr>\n",
       "  <th>Wife_education_Uneducated</th>    <td>   -0.2513</td> <td>    0.245</td> <td>   -1.027</td> <td> 0.304</td> <td>   -0.731</td> <td>    0.228</td>\n",
       "</tr>\n",
       "<tr>\n",
       "  <th>Husband_education_Secondary</th>  <td>    0.1676</td> <td>    0.217</td> <td>    0.773</td> <td> 0.440</td> <td>   -0.258</td> <td>    0.593</td>\n",
       "</tr>\n",
       "<tr>\n",
       "  <th>Husband_education_Tertiary</th>   <td>    0.0286</td> <td>    0.224</td> <td>    0.127</td> <td> 0.899</td> <td>   -0.411</td> <td>    0.468</td>\n",
       "</tr>\n",
       "<tr>\n",
       "  <th>Husband_education_Uneducated</th> <td>   -0.3485</td> <td>    0.407</td> <td>   -0.856</td> <td> 0.392</td> <td>   -1.147</td> <td>    0.450</td>\n",
       "</tr>\n",
       "</table>"
      ],
      "text/plain": [
       "<class 'statsmodels.iolib.summary.Summary'>\n",
       "\"\"\"\n",
       "                                 Logit Regression Results                                \n",
       "=========================================================================================\n",
       "Dep. Variable:     Contraceptive_method_used_Yes   No. Observations:                 1383\n",
       "Model:                                     Logit   Df Residuals:                     1369\n",
       "Method:                                      MLE   Df Model:                           13\n",
       "Date:                           Sun, 12 Feb 2023   Pseudo R-squ.:                  0.1461\n",
       "Time:                                   17:40:06   Log-Likelihood:                -810.93\n",
       "converged:                                  True   LL-Null:                       -949.69\n",
       "Covariance Type:                       nonrobust   LLR p-value:                 1.200e-51\n",
       "================================================================================================\n",
       "                                   coef    std err          z      P>|z|      [0.025      0.975]\n",
       "------------------------------------------------------------------------------------------------\n",
       "Intercept                        0.7162      0.466      1.537      0.124      -0.197       1.629\n",
       "Wife_age                        -0.0959      0.010     -9.314      0.000      -0.116      -0.076\n",
       "No_of_children_born              0.5702      0.048     11.814      0.000       0.476       0.665\n",
       "Husband_Occupation               0.1228      0.080      1.529      0.126      -0.035       0.280\n",
       "Standard_of_living_index         0.2360      0.070      3.395      0.001       0.100       0.372\n",
       "Wife_religion_Scientology       -0.4298      0.180     -2.386      0.017      -0.783      -0.077\n",
       "Wife_Working_Yes                -0.0846      0.140     -0.604      0.546      -0.359       0.190\n",
       "Media_exposure_Not_Exposed      -0.5128      0.255     -2.015      0.044      -1.012      -0.014\n",
       "Wife_education_Secondary         0.5213      0.171      3.044      0.002       0.186       0.857\n",
       "Wife_education_Tertiary          1.2388      0.199      6.240      0.000       0.850       1.628\n",
       "Wife_education_Uneducated       -0.2513      0.245     -1.027      0.304      -0.731       0.228\n",
       "Husband_education_Secondary      0.1676      0.217      0.773      0.440      -0.258       0.593\n",
       "Husband_education_Tertiary       0.0286      0.224      0.127      0.899      -0.411       0.468\n",
       "Husband_education_Uneducated    -0.3485      0.407     -0.856      0.392      -1.147       0.450\n",
       "================================================================================================\n",
       "\"\"\""
      ]
     },
     "execution_count": 77,
     "metadata": {},
     "output_type": "execute_result"
    }
   ],
   "source": [
    "base_model_stats.summary()"
   ]
  },
  {
   "cell_type": "code",
   "execution_count": 78,
   "id": "c413e242",
   "metadata": {},
   "outputs": [
    {
     "data": {
      "text/plain": [
       "Wife_age                          int64\n",
       "No_of_children_born             float64\n",
       "Husband_Occupation                int64\n",
       "Standard_of_living_index        float64\n",
       "Wife_religion_Scientology         uint8\n",
       "Wife_Working_Yes                  uint8\n",
       "Media_exposure_Not_Exposed        uint8\n",
       "Wife_education_Secondary          uint8\n",
       "Wife_education_Tertiary           uint8\n",
       "Wife_education_Uneducated         uint8\n",
       "Husband_education_Secondary       uint8\n",
       "Husband_education_Tertiary        uint8\n",
       "Husband_education_Uneducated      uint8\n",
       "dtype: object"
      ]
     },
     "execution_count": 78,
     "metadata": {},
     "output_type": "execute_result"
    }
   ],
   "source": [
    "X_train.dtypes"
   ]
  },
  {
   "cell_type": "code",
   "execution_count": 79,
   "id": "a0b7041f",
   "metadata": {},
   "outputs": [
    {
     "name": "stdout",
     "output_type": "stream",
     "text": [
      "VIF values: \n",
      "\n",
      "Wife_age                        18.384254\n",
      "No_of_children_born              5.428056\n",
      "Husband_Occupation               6.157817\n",
      "Standard_of_living_index         6.913387\n",
      "Wife_religion_Scientology        5.467902\n",
      "Wife_Working_Yes                 1.359459\n",
      "Media_exposure_Not_Exposed       1.319952\n",
      "Wife_education_Secondary         2.557318\n",
      "Wife_education_Tertiary          4.074657\n",
      "Wife_education_Uneducated        1.690728\n",
      "Husband_education_Secondary      2.973547\n",
      "Husband_education_Tertiary       7.496119\n",
      "Husband_education_Uneducated     1.202139\n",
      "dtype: float64\n",
      "\n"
     ]
    }
   ],
   "source": [
    "# let's check the VIF of the predictors\n",
    "from statsmodels.stats.outliers_influence import variance_inflation_factor\n",
    "\n",
    "vif_series1 = pd.Series(\n",
    "    [variance_inflation_factor(X_train.values, i) for i in range(X_train.shape[1])],\n",
    "    index=X_train.columns,\n",
    ")\n",
    "print(\"VIF values: \\n\\n{}\\n\".format(vif_series1))"
   ]
  },
  {
   "cell_type": "code",
   "execution_count": null,
   "id": "af88fd72",
   "metadata": {},
   "outputs": [],
   "source": []
  },
  {
   "cell_type": "code",
   "execution_count": 80,
   "id": "bfef4566",
   "metadata": {},
   "outputs": [],
   "source": [
    "#Removing wife age\n",
    "fo_2 = 'Contraceptive_method_used_Yes~No_of_children_born+Husband_Occupation+Standard_of_living_index+Wife_religion_Scientology+Wife_Working_Yes+Media_exposure_Not_Exposed+Wife_education_Secondary+Wife_education_Tertiary+Wife_education_Uneducated+Husband_education_Secondary+Husband_education_Tertiary+Husband_education_Uneducated'"
   ]
  },
  {
   "cell_type": "code",
   "execution_count": 81,
   "id": "a8f49673",
   "metadata": {},
   "outputs": [
    {
     "name": "stdout",
     "output_type": "stream",
     "text": [
      "Optimization terminated successfully.\n",
      "         Current function value: 0.621666\n",
      "         Iterations 5\n"
     ]
    },
    {
     "data": {
      "text/html": [
       "<table class=\"simpletable\">\n",
       "<caption>Logit Regression Results</caption>\n",
       "<tr>\n",
       "  <th>Dep. Variable:</th>   <td>Contraceptive_method_used_Yes</td> <th>  No. Observations:  </th>  <td>  1383</td>  \n",
       "</tr>\n",
       "<tr>\n",
       "  <th>Model:</th>                       <td>Logit</td>             <th>  Df Residuals:      </th>  <td>  1370</td>  \n",
       "</tr>\n",
       "<tr>\n",
       "  <th>Method:</th>                       <td>MLE</td>              <th>  Df Model:          </th>  <td>    12</td>  \n",
       "</tr>\n",
       "<tr>\n",
       "  <th>Date:</th>                  <td>Sun, 12 Feb 2023</td>        <th>  Pseudo R-squ.:     </th>  <td>0.09469</td> \n",
       "</tr>\n",
       "<tr>\n",
       "  <th>Time:</th>                      <td>17:40:06</td>            <th>  Log-Likelihood:    </th> <td> -859.76</td> \n",
       "</tr>\n",
       "<tr>\n",
       "  <th>converged:</th>                   <td>True</td>              <th>  LL-Null:           </th> <td> -949.69</td> \n",
       "</tr>\n",
       "<tr>\n",
       "  <th>Covariance Type:</th>           <td>nonrobust</td>           <th>  LLR p-value:       </th> <td>4.566e-32</td>\n",
       "</tr>\n",
       "</table>\n",
       "<table class=\"simpletable\">\n",
       "<tr>\n",
       "                <td></td>                  <th>coef</th>     <th>std err</th>      <th>z</th>      <th>P>|z|</th>  <th>[0.025</th>    <th>0.975]</th>  \n",
       "</tr>\n",
       "<tr>\n",
       "  <th>Intercept</th>                    <td>   -1.7394</td> <td>    0.380</td> <td>   -4.583</td> <td> 0.000</td> <td>   -2.483</td> <td>   -0.996</td>\n",
       "</tr>\n",
       "<tr>\n",
       "  <th>No_of_children_born</th>          <td>    0.3159</td> <td>    0.036</td> <td>    8.763</td> <td> 0.000</td> <td>    0.245</td> <td>    0.387</td>\n",
       "</tr>\n",
       "<tr>\n",
       "  <th>Husband_Occupation</th>           <td>    0.2265</td> <td>    0.077</td> <td>    2.951</td> <td> 0.003</td> <td>    0.076</td> <td>    0.377</td>\n",
       "</tr>\n",
       "<tr>\n",
       "  <th>Standard_of_living_index</th>     <td>    0.1312</td> <td>    0.066</td> <td>    1.988</td> <td> 0.047</td> <td>    0.002</td> <td>    0.261</td>\n",
       "</tr>\n",
       "<tr>\n",
       "  <th>Wife_religion_Scientology</th>    <td>   -0.1092</td> <td>    0.170</td> <td>   -0.642</td> <td> 0.521</td> <td>   -0.443</td> <td>    0.224</td>\n",
       "</tr>\n",
       "<tr>\n",
       "  <th>Wife_Working_Yes</th>             <td>   -0.1907</td> <td>    0.134</td> <td>   -1.420</td> <td> 0.155</td> <td>   -0.454</td> <td>    0.072</td>\n",
       "</tr>\n",
       "<tr>\n",
       "  <th>Media_exposure_Not_Exposed</th>   <td>   -0.6170</td> <td>    0.245</td> <td>   -2.521</td> <td> 0.012</td> <td>   -1.097</td> <td>   -0.137</td>\n",
       "</tr>\n",
       "<tr>\n",
       "  <th>Wife_education_Secondary</th>     <td>    0.4853</td> <td>    0.165</td> <td>    2.946</td> <td> 0.003</td> <td>    0.162</td> <td>    0.808</td>\n",
       "</tr>\n",
       "<tr>\n",
       "  <th>Wife_education_Tertiary</th>      <td>    1.0788</td> <td>    0.190</td> <td>    5.690</td> <td> 0.000</td> <td>    0.707</td> <td>    1.450</td>\n",
       "</tr>\n",
       "<tr>\n",
       "  <th>Wife_education_Uneducated</th>    <td>   -0.5837</td> <td>    0.231</td> <td>   -2.527</td> <td> 0.012</td> <td>   -1.036</td> <td>   -0.131</td>\n",
       "</tr>\n",
       "<tr>\n",
       "  <th>Husband_education_Secondary</th>  <td>    0.1034</td> <td>    0.208</td> <td>    0.497</td> <td> 0.619</td> <td>   -0.304</td> <td>    0.511</td>\n",
       "</tr>\n",
       "<tr>\n",
       "  <th>Husband_education_Tertiary</th>   <td>   -0.0043</td> <td>    0.216</td> <td>   -0.020</td> <td> 0.984</td> <td>   -0.427</td> <td>    0.419</td>\n",
       "</tr>\n",
       "<tr>\n",
       "  <th>Husband_education_Uneducated</th> <td>   -0.5601</td> <td>    0.388</td> <td>   -1.444</td> <td> 0.149</td> <td>   -1.320</td> <td>    0.200</td>\n",
       "</tr>\n",
       "</table>"
      ],
      "text/plain": [
       "<class 'statsmodels.iolib.summary.Summary'>\n",
       "\"\"\"\n",
       "                                 Logit Regression Results                                \n",
       "=========================================================================================\n",
       "Dep. Variable:     Contraceptive_method_used_Yes   No. Observations:                 1383\n",
       "Model:                                     Logit   Df Residuals:                     1370\n",
       "Method:                                      MLE   Df Model:                           12\n",
       "Date:                           Sun, 12 Feb 2023   Pseudo R-squ.:                 0.09469\n",
       "Time:                                   17:40:06   Log-Likelihood:                -859.76\n",
       "converged:                                  True   LL-Null:                       -949.69\n",
       "Covariance Type:                       nonrobust   LLR p-value:                 4.566e-32\n",
       "================================================================================================\n",
       "                                   coef    std err          z      P>|z|      [0.025      0.975]\n",
       "------------------------------------------------------------------------------------------------\n",
       "Intercept                       -1.7394      0.380     -4.583      0.000      -2.483      -0.996\n",
       "No_of_children_born              0.3159      0.036      8.763      0.000       0.245       0.387\n",
       "Husband_Occupation               0.2265      0.077      2.951      0.003       0.076       0.377\n",
       "Standard_of_living_index         0.1312      0.066      1.988      0.047       0.002       0.261\n",
       "Wife_religion_Scientology       -0.1092      0.170     -0.642      0.521      -0.443       0.224\n",
       "Wife_Working_Yes                -0.1907      0.134     -1.420      0.155      -0.454       0.072\n",
       "Media_exposure_Not_Exposed      -0.6170      0.245     -2.521      0.012      -1.097      -0.137\n",
       "Wife_education_Secondary         0.4853      0.165      2.946      0.003       0.162       0.808\n",
       "Wife_education_Tertiary          1.0788      0.190      5.690      0.000       0.707       1.450\n",
       "Wife_education_Uneducated       -0.5837      0.231     -2.527      0.012      -1.036      -0.131\n",
       "Husband_education_Secondary      0.1034      0.208      0.497      0.619      -0.304       0.511\n",
       "Husband_education_Tertiary      -0.0043      0.216     -0.020      0.984      -0.427       0.419\n",
       "Husband_education_Uneducated    -0.5601      0.388     -1.444      0.149      -1.320       0.200\n",
       "================================================================================================\n",
       "\"\"\""
      ]
     },
     "execution_count": 81,
     "metadata": {},
     "output_type": "execute_result"
    }
   ],
   "source": [
    "model_stats_1 = sm.logit(formula=fo_2,data = data).fit()\n",
    "model_stats_1.summary()"
   ]
  },
  {
   "cell_type": "code",
   "execution_count": 82,
   "id": "2f40aec5",
   "metadata": {},
   "outputs": [],
   "source": [
    "# Wife age cannot be removed from the dataset as the pseudo value reduced "
   ]
  },
  {
   "cell_type": "code",
   "execution_count": 83,
   "id": "3f2193f7",
   "metadata": {},
   "outputs": [],
   "source": [
    "# remvoing number of children\n",
    "fo_3 = 'Contraceptive_method_used_Yes~Wife_age+Husband_Occupation+Standard_of_living_index+Wife_religion_Scientology+Wife_Working_Yes+Media_exposure_Not_Exposed+Wife_education_Secondary+Wife_education_Tertiary+Wife_education_Uneducated+Husband_education_Secondary+Husband_education_Tertiary+Husband_education_Uneducated'"
   ]
  },
  {
   "cell_type": "code",
   "execution_count": 84,
   "id": "5bf4eaa1",
   "metadata": {},
   "outputs": [
    {
     "name": "stdout",
     "output_type": "stream",
     "text": [
      "Optimization terminated successfully.\n",
      "         Current function value: 0.647614\n",
      "         Iterations 5\n"
     ]
    },
    {
     "data": {
      "text/html": [
       "<table class=\"simpletable\">\n",
       "<caption>Logit Regression Results</caption>\n",
       "<tr>\n",
       "  <th>Dep. Variable:</th>   <td>Contraceptive_method_used_Yes</td> <th>  No. Observations:  </th>  <td>  1383</td>  \n",
       "</tr>\n",
       "<tr>\n",
       "  <th>Model:</th>                       <td>Logit</td>             <th>  Df Residuals:      </th>  <td>  1370</td>  \n",
       "</tr>\n",
       "<tr>\n",
       "  <th>Method:</th>                       <td>MLE</td>              <th>  Df Model:          </th>  <td>    12</td>  \n",
       "</tr>\n",
       "<tr>\n",
       "  <th>Date:</th>                  <td>Sun, 12 Feb 2023</td>        <th>  Pseudo R-squ.:     </th>  <td>0.05690</td> \n",
       "</tr>\n",
       "<tr>\n",
       "  <th>Time:</th>                      <td>17:40:06</td>            <th>  Log-Likelihood:    </th> <td> -895.65</td> \n",
       "</tr>\n",
       "<tr>\n",
       "  <th>converged:</th>                   <td>True</td>              <th>  LL-Null:           </th> <td> -949.69</td> \n",
       "</tr>\n",
       "<tr>\n",
       "  <th>Covariance Type:</th>           <td>nonrobust</td>           <th>  LLR p-value:       </th> <td>1.431e-17</td>\n",
       "</tr>\n",
       "</table>\n",
       "<table class=\"simpletable\">\n",
       "<tr>\n",
       "                <td></td>                  <th>coef</th>     <th>std err</th>      <th>z</th>      <th>P>|z|</th>  <th>[0.025</th>    <th>0.975]</th>  \n",
       "</tr>\n",
       "<tr>\n",
       "  <th>Intercept</th>                    <td>    0.2989</td> <td>    0.436</td> <td>    0.685</td> <td> 0.493</td> <td>   -0.556</td> <td>    1.154</td>\n",
       "</tr>\n",
       "<tr>\n",
       "  <th>Wife_age</th>                     <td>   -0.0248</td> <td>    0.008</td> <td>   -3.280</td> <td> 0.001</td> <td>   -0.040</td> <td>   -0.010</td>\n",
       "</tr>\n",
       "<tr>\n",
       "  <th>Husband_Occupation</th>           <td>    0.1041</td> <td>    0.075</td> <td>    1.386</td> <td> 0.166</td> <td>   -0.043</td> <td>    0.251</td>\n",
       "</tr>\n",
       "<tr>\n",
       "  <th>Standard_of_living_index</th>     <td>    0.2173</td> <td>    0.065</td> <td>    3.343</td> <td> 0.001</td> <td>    0.090</td> <td>    0.345</td>\n",
       "</tr>\n",
       "<tr>\n",
       "  <th>Wife_religion_Scientology</th>    <td>   -0.1589</td> <td>    0.169</td> <td>   -0.943</td> <td> 0.346</td> <td>   -0.489</td> <td>    0.171</td>\n",
       "</tr>\n",
       "<tr>\n",
       "  <th>Wife_Working_Yes</th>             <td>   -0.3010</td> <td>    0.131</td> <td>   -2.306</td> <td> 0.021</td> <td>   -0.557</td> <td>   -0.045</td>\n",
       "</tr>\n",
       "<tr>\n",
       "  <th>Media_exposure_Not_Exposed</th>   <td>   -0.3740</td> <td>    0.239</td> <td>   -1.563</td> <td> 0.118</td> <td>   -0.843</td> <td>    0.095</td>\n",
       "</tr>\n",
       "<tr>\n",
       "  <th>Wife_education_Secondary</th>     <td>    0.4020</td> <td>    0.159</td> <td>    2.522</td> <td> 0.012</td> <td>    0.090</td> <td>    0.714</td>\n",
       "</tr>\n",
       "<tr>\n",
       "  <th>Wife_education_Tertiary</th>      <td>    0.8957</td> <td>    0.182</td> <td>    4.928</td> <td> 0.000</td> <td>    0.539</td> <td>    1.252</td>\n",
       "</tr>\n",
       "<tr>\n",
       "  <th>Wife_education_Uneducated</th>    <td>   -0.3468</td> <td>    0.228</td> <td>   -1.520</td> <td> 0.129</td> <td>   -0.794</td> <td>    0.100</td>\n",
       "</tr>\n",
       "<tr>\n",
       "  <th>Husband_education_Secondary</th>  <td>    0.0629</td> <td>    0.202</td> <td>    0.312</td> <td> 0.755</td> <td>   -0.332</td> <td>    0.458</td>\n",
       "</tr>\n",
       "<tr>\n",
       "  <th>Husband_education_Tertiary</th>   <td>   -0.1818</td> <td>    0.209</td> <td>   -0.872</td> <td> 0.383</td> <td>   -0.591</td> <td>    0.227</td>\n",
       "</tr>\n",
       "<tr>\n",
       "  <th>Husband_education_Uneducated</th> <td>   -0.3676</td> <td>    0.381</td> <td>   -0.964</td> <td> 0.335</td> <td>   -1.115</td> <td>    0.380</td>\n",
       "</tr>\n",
       "</table>"
      ],
      "text/plain": [
       "<class 'statsmodels.iolib.summary.Summary'>\n",
       "\"\"\"\n",
       "                                 Logit Regression Results                                \n",
       "=========================================================================================\n",
       "Dep. Variable:     Contraceptive_method_used_Yes   No. Observations:                 1383\n",
       "Model:                                     Logit   Df Residuals:                     1370\n",
       "Method:                                      MLE   Df Model:                           12\n",
       "Date:                           Sun, 12 Feb 2023   Pseudo R-squ.:                 0.05690\n",
       "Time:                                   17:40:06   Log-Likelihood:                -895.65\n",
       "converged:                                  True   LL-Null:                       -949.69\n",
       "Covariance Type:                       nonrobust   LLR p-value:                 1.431e-17\n",
       "================================================================================================\n",
       "                                   coef    std err          z      P>|z|      [0.025      0.975]\n",
       "------------------------------------------------------------------------------------------------\n",
       "Intercept                        0.2989      0.436      0.685      0.493      -0.556       1.154\n",
       "Wife_age                        -0.0248      0.008     -3.280      0.001      -0.040      -0.010\n",
       "Husband_Occupation               0.1041      0.075      1.386      0.166      -0.043       0.251\n",
       "Standard_of_living_index         0.2173      0.065      3.343      0.001       0.090       0.345\n",
       "Wife_religion_Scientology       -0.1589      0.169     -0.943      0.346      -0.489       0.171\n",
       "Wife_Working_Yes                -0.3010      0.131     -2.306      0.021      -0.557      -0.045\n",
       "Media_exposure_Not_Exposed      -0.3740      0.239     -1.563      0.118      -0.843       0.095\n",
       "Wife_education_Secondary         0.4020      0.159      2.522      0.012       0.090       0.714\n",
       "Wife_education_Tertiary          0.8957      0.182      4.928      0.000       0.539       1.252\n",
       "Wife_education_Uneducated       -0.3468      0.228     -1.520      0.129      -0.794       0.100\n",
       "Husband_education_Secondary      0.0629      0.202      0.312      0.755      -0.332       0.458\n",
       "Husband_education_Tertiary      -0.1818      0.209     -0.872      0.383      -0.591       0.227\n",
       "Husband_education_Uneducated    -0.3676      0.381     -0.964      0.335      -1.115       0.380\n",
       "================================================================================================\n",
       "\"\"\""
      ]
     },
     "execution_count": 84,
     "metadata": {},
     "output_type": "execute_result"
    }
   ],
   "source": [
    "model_stats_2 = sm.logit(formula=fo_3,data = data).fit()\n",
    "model_stats_2.summary()"
   ]
  },
  {
   "cell_type": "code",
   "execution_count": 85,
   "id": "ad30397b",
   "metadata": {},
   "outputs": [],
   "source": [
    "# No_of_children_born cannot be removed from the dataset as the pseudo value reduced "
   ]
  },
  {
   "cell_type": "code",
   "execution_count": 86,
   "id": "80d472de",
   "metadata": {},
   "outputs": [],
   "source": [
    "#Removing Husband occupation\n",
    "fo_4 = 'Contraceptive_method_used_Yes~Wife_age+No_of_children_born+Standard_of_living_index+Wife_religion_Scientology+Wife_Working_Yes+Media_exposure_Not_Exposed+Wife_education_Secondary+Wife_education_Tertiary+Wife_education_Uneducated+Husband_education_Secondary+Husband_education_Tertiary+Husband_education_Uneducated'"
   ]
  },
  {
   "cell_type": "code",
   "execution_count": 87,
   "id": "67c11033",
   "metadata": {},
   "outputs": [
    {
     "name": "stdout",
     "output_type": "stream",
     "text": [
      "Optimization terminated successfully.\n",
      "         Current function value: 0.587208\n",
      "         Iterations 6\n"
     ]
    },
    {
     "data": {
      "text/html": [
       "<table class=\"simpletable\">\n",
       "<caption>Logit Regression Results</caption>\n",
       "<tr>\n",
       "  <th>Dep. Variable:</th>   <td>Contraceptive_method_used_Yes</td> <th>  No. Observations:  </th>  <td>  1383</td>  \n",
       "</tr>\n",
       "<tr>\n",
       "  <th>Model:</th>                       <td>Logit</td>             <th>  Df Residuals:      </th>  <td>  1370</td>  \n",
       "</tr>\n",
       "<tr>\n",
       "  <th>Method:</th>                       <td>MLE</td>              <th>  Df Model:          </th>  <td>    12</td>  \n",
       "</tr>\n",
       "<tr>\n",
       "  <th>Date:</th>                  <td>Sun, 12 Feb 2023</td>        <th>  Pseudo R-squ.:     </th>  <td>0.1449</td>  \n",
       "</tr>\n",
       "<tr>\n",
       "  <th>Time:</th>                      <td>17:40:06</td>            <th>  Log-Likelihood:    </th> <td> -812.11</td> \n",
       "</tr>\n",
       "<tr>\n",
       "  <th>converged:</th>                   <td>True</td>              <th>  LL-Null:           </th> <td> -949.69</td> \n",
       "</tr>\n",
       "<tr>\n",
       "  <th>Covariance Type:</th>           <td>nonrobust</td>           <th>  LLR p-value:       </th> <td>7.550e-52</td>\n",
       "</tr>\n",
       "</table>\n",
       "<table class=\"simpletable\">\n",
       "<tr>\n",
       "                <td></td>                  <th>coef</th>     <th>std err</th>      <th>z</th>      <th>P>|z|</th>  <th>[0.025</th>    <th>0.975]</th>  \n",
       "</tr>\n",
       "<tr>\n",
       "  <th>Intercept</th>                    <td>    1.1393</td> <td>    0.376</td> <td>    3.031</td> <td> 0.002</td> <td>    0.403</td> <td>    1.876</td>\n",
       "</tr>\n",
       "<tr>\n",
       "  <th>Wife_age</th>                     <td>   -0.0980</td> <td>    0.010</td> <td>   -9.580</td> <td> 0.000</td> <td>   -0.118</td> <td>   -0.078</td>\n",
       "</tr>\n",
       "<tr>\n",
       "  <th>No_of_children_born</th>          <td>    0.5686</td> <td>    0.048</td> <td>   11.800</td> <td> 0.000</td> <td>    0.474</td> <td>    0.663</td>\n",
       "</tr>\n",
       "<tr>\n",
       "  <th>Standard_of_living_index</th>     <td>    0.2246</td> <td>    0.069</td> <td>    3.252</td> <td> 0.001</td> <td>    0.089</td> <td>    0.360</td>\n",
       "</tr>\n",
       "<tr>\n",
       "  <th>Wife_religion_Scientology</th>    <td>   -0.4465</td> <td>    0.180</td> <td>   -2.482</td> <td> 0.013</td> <td>   -0.799</td> <td>   -0.094</td>\n",
       "</tr>\n",
       "<tr>\n",
       "  <th>Wife_Working_Yes</th>             <td>   -0.0820</td> <td>    0.140</td> <td>   -0.586</td> <td> 0.558</td> <td>   -0.356</td> <td>    0.192</td>\n",
       "</tr>\n",
       "<tr>\n",
       "  <th>Media_exposure_Not_Exposed</th>   <td>   -0.5157</td> <td>    0.255</td> <td>   -2.022</td> <td> 0.043</td> <td>   -1.015</td> <td>   -0.016</td>\n",
       "</tr>\n",
       "<tr>\n",
       "  <th>Wife_education_Secondary</th>     <td>    0.5029</td> <td>    0.171</td> <td>    2.948</td> <td> 0.003</td> <td>    0.169</td> <td>    0.837</td>\n",
       "</tr>\n",
       "<tr>\n",
       "  <th>Wife_education_Tertiary</th>      <td>    1.1706</td> <td>    0.193</td> <td>    6.074</td> <td> 0.000</td> <td>    0.793</td> <td>    1.548</td>\n",
       "</tr>\n",
       "<tr>\n",
       "  <th>Wife_education_Uneducated</th>    <td>   -0.2373</td> <td>    0.244</td> <td>   -0.971</td> <td> 0.332</td> <td>   -0.716</td> <td>    0.242</td>\n",
       "</tr>\n",
       "<tr>\n",
       "  <th>Husband_education_Secondary</th>  <td>    0.1658</td> <td>    0.217</td> <td>    0.765</td> <td> 0.445</td> <td>   -0.259</td> <td>    0.591</td>\n",
       "</tr>\n",
       "<tr>\n",
       "  <th>Husband_education_Tertiary</th>   <td>   -0.0051</td> <td>    0.223</td> <td>   -0.023</td> <td> 0.982</td> <td>   -0.443</td> <td>    0.433</td>\n",
       "</tr>\n",
       "<tr>\n",
       "  <th>Husband_education_Uneducated</th> <td>   -0.3449</td> <td>    0.407</td> <td>   -0.847</td> <td> 0.397</td> <td>   -1.143</td> <td>    0.454</td>\n",
       "</tr>\n",
       "</table>"
      ],
      "text/plain": [
       "<class 'statsmodels.iolib.summary.Summary'>\n",
       "\"\"\"\n",
       "                                 Logit Regression Results                                \n",
       "=========================================================================================\n",
       "Dep. Variable:     Contraceptive_method_used_Yes   No. Observations:                 1383\n",
       "Model:                                     Logit   Df Residuals:                     1370\n",
       "Method:                                      MLE   Df Model:                           12\n",
       "Date:                           Sun, 12 Feb 2023   Pseudo R-squ.:                  0.1449\n",
       "Time:                                   17:40:06   Log-Likelihood:                -812.11\n",
       "converged:                                  True   LL-Null:                       -949.69\n",
       "Covariance Type:                       nonrobust   LLR p-value:                 7.550e-52\n",
       "================================================================================================\n",
       "                                   coef    std err          z      P>|z|      [0.025      0.975]\n",
       "------------------------------------------------------------------------------------------------\n",
       "Intercept                        1.1393      0.376      3.031      0.002       0.403       1.876\n",
       "Wife_age                        -0.0980      0.010     -9.580      0.000      -0.118      -0.078\n",
       "No_of_children_born              0.5686      0.048     11.800      0.000       0.474       0.663\n",
       "Standard_of_living_index         0.2246      0.069      3.252      0.001       0.089       0.360\n",
       "Wife_religion_Scientology       -0.4465      0.180     -2.482      0.013      -0.799      -0.094\n",
       "Wife_Working_Yes                -0.0820      0.140     -0.586      0.558      -0.356       0.192\n",
       "Media_exposure_Not_Exposed      -0.5157      0.255     -2.022      0.043      -1.015      -0.016\n",
       "Wife_education_Secondary         0.5029      0.171      2.948      0.003       0.169       0.837\n",
       "Wife_education_Tertiary          1.1706      0.193      6.074      0.000       0.793       1.548\n",
       "Wife_education_Uneducated       -0.2373      0.244     -0.971      0.332      -0.716       0.242\n",
       "Husband_education_Secondary      0.1658      0.217      0.765      0.445      -0.259       0.591\n",
       "Husband_education_Tertiary      -0.0051      0.223     -0.023      0.982      -0.443       0.433\n",
       "Husband_education_Uneducated    -0.3449      0.407     -0.847      0.397      -1.143       0.454\n",
       "================================================================================================\n",
       "\"\"\""
      ]
     },
     "execution_count": 87,
     "metadata": {},
     "output_type": "execute_result"
    }
   ],
   "source": [
    "model_stats_3 = sm.logit(formula=fo_4,data = data).fit()\n",
    "model_stats_3.summary()"
   ]
  },
  {
   "cell_type": "code",
   "execution_count": 88,
   "id": "14b91818",
   "metadata": {},
   "outputs": [],
   "source": [
    "#Husband occupation can be removed as it doesnot affect the psuedo-rsquare"
   ]
  },
  {
   "cell_type": "code",
   "execution_count": 89,
   "id": "2a3de3aa",
   "metadata": {},
   "outputs": [],
   "source": [
    "X_train_1 = X_train.drop('Husband_Occupation',axis=1)"
   ]
  },
  {
   "cell_type": "code",
   "execution_count": null,
   "id": "5369aba9",
   "metadata": {},
   "outputs": [],
   "source": []
  },
  {
   "cell_type": "code",
   "execution_count": 90,
   "id": "02bfcda8",
   "metadata": {},
   "outputs": [
    {
     "name": "stdout",
     "output_type": "stream",
     "text": [
      "VIF values: \n",
      "\n",
      "Wife_age                        17.252344\n",
      "No_of_children_born              5.421890\n",
      "Standard_of_living_index         6.886744\n",
      "Wife_religion_Scientology        4.818024\n",
      "Wife_Working_Yes                 1.357093\n",
      "Media_exposure_Not_Exposed       1.318677\n",
      "Wife_education_Secondary         2.554833\n",
      "Wife_education_Tertiary          4.020999\n",
      "Wife_education_Uneducated        1.687157\n",
      "Husband_education_Secondary      2.849109\n",
      "Husband_education_Tertiary       7.400742\n",
      "Husband_education_Uneducated     1.197210\n",
      "dtype: float64\n",
      "\n"
     ]
    }
   ],
   "source": [
    "vif_series2 = pd.Series(\n",
    "    [variance_inflation_factor(X_train_1.values, i) for i in range(X_train_1.shape[1])],\n",
    "    index=X_train_1.columns,\n",
    ")\n",
    "print(\"VIF values: \\n\\n{}\\n\".format(vif_series2))"
   ]
  },
  {
   "cell_type": "code",
   "execution_count": 91,
   "id": "c9267943",
   "metadata": {},
   "outputs": [],
   "source": [
    "#Removing Husband education trertiary\n",
    "fo_5 = 'Contraceptive_method_used_Yes~Wife_age+No_of_children_born+Standard_of_living_index+Wife_religion_Scientology+Wife_Working_Yes+Media_exposure_Not_Exposed+Wife_education_Secondary+Wife_education_Tertiary+Wife_education_Uneducated+Husband_education_Secondary+Husband_education_Uneducated'"
   ]
  },
  {
   "cell_type": "code",
   "execution_count": 92,
   "id": "955cdd48",
   "metadata": {
    "scrolled": true
   },
   "outputs": [
    {
     "name": "stdout",
     "output_type": "stream",
     "text": [
      "Optimization terminated successfully.\n",
      "         Current function value: 0.587208\n",
      "         Iterations 6\n"
     ]
    },
    {
     "data": {
      "text/html": [
       "<table class=\"simpletable\">\n",
       "<caption>Logit Regression Results</caption>\n",
       "<tr>\n",
       "  <th>Dep. Variable:</th>   <td>Contraceptive_method_used_Yes</td> <th>  No. Observations:  </th>  <td>  1383</td>  \n",
       "</tr>\n",
       "<tr>\n",
       "  <th>Model:</th>                       <td>Logit</td>             <th>  Df Residuals:      </th>  <td>  1371</td>  \n",
       "</tr>\n",
       "<tr>\n",
       "  <th>Method:</th>                       <td>MLE</td>              <th>  Df Model:          </th>  <td>    11</td>  \n",
       "</tr>\n",
       "<tr>\n",
       "  <th>Date:</th>                  <td>Sun, 12 Feb 2023</td>        <th>  Pseudo R-squ.:     </th>  <td>0.1449</td>  \n",
       "</tr>\n",
       "<tr>\n",
       "  <th>Time:</th>                      <td>17:40:06</td>            <th>  Log-Likelihood:    </th> <td> -812.11</td> \n",
       "</tr>\n",
       "<tr>\n",
       "  <th>converged:</th>                   <td>True</td>              <th>  LL-Null:           </th> <td> -949.69</td> \n",
       "</tr>\n",
       "<tr>\n",
       "  <th>Covariance Type:</th>           <td>nonrobust</td>           <th>  LLR p-value:       </th> <td>1.471e-52</td>\n",
       "</tr>\n",
       "</table>\n",
       "<table class=\"simpletable\">\n",
       "<tr>\n",
       "                <td></td>                  <th>coef</th>     <th>std err</th>      <th>z</th>      <th>P>|z|</th>  <th>[0.025</th>    <th>0.975]</th>  \n",
       "</tr>\n",
       "<tr>\n",
       "  <th>Intercept</th>                    <td>    1.1365</td> <td>    0.355</td> <td>    3.203</td> <td> 0.001</td> <td>    0.441</td> <td>    1.832</td>\n",
       "</tr>\n",
       "<tr>\n",
       "  <th>Wife_age</th>                     <td>   -0.0980</td> <td>    0.010</td> <td>   -9.586</td> <td> 0.000</td> <td>   -0.118</td> <td>   -0.078</td>\n",
       "</tr>\n",
       "<tr>\n",
       "  <th>No_of_children_born</th>          <td>    0.5687</td> <td>    0.048</td> <td>   11.833</td> <td> 0.000</td> <td>    0.475</td> <td>    0.663</td>\n",
       "</tr>\n",
       "<tr>\n",
       "  <th>Standard_of_living_index</th>     <td>    0.2244</td> <td>    0.068</td> <td>    3.286</td> <td> 0.001</td> <td>    0.091</td> <td>    0.358</td>\n",
       "</tr>\n",
       "<tr>\n",
       "  <th>Wife_religion_Scientology</th>    <td>   -0.4464</td> <td>    0.180</td> <td>   -2.482</td> <td> 0.013</td> <td>   -0.799</td> <td>   -0.094</td>\n",
       "</tr>\n",
       "<tr>\n",
       "  <th>Wife_Working_Yes</th>             <td>   -0.0819</td> <td>    0.140</td> <td>   -0.585</td> <td> 0.558</td> <td>   -0.356</td> <td>    0.192</td>\n",
       "</tr>\n",
       "<tr>\n",
       "  <th>Media_exposure_Not_Exposed</th>   <td>   -0.5151</td> <td>    0.254</td> <td>   -2.029</td> <td> 0.042</td> <td>   -1.013</td> <td>   -0.017</td>\n",
       "</tr>\n",
       "<tr>\n",
       "  <th>Wife_education_Secondary</th>     <td>    0.5019</td> <td>    0.165</td> <td>    3.049</td> <td> 0.002</td> <td>    0.179</td> <td>    0.824</td>\n",
       "</tr>\n",
       "<tr>\n",
       "  <th>Wife_education_Tertiary</th>      <td>    1.1690</td> <td>    0.179</td> <td>    6.528</td> <td> 0.000</td> <td>    0.818</td> <td>    1.520</td>\n",
       "</tr>\n",
       "<tr>\n",
       "  <th>Wife_education_Uneducated</th>    <td>   -0.2367</td> <td>    0.243</td> <td>   -0.974</td> <td> 0.330</td> <td>   -0.713</td> <td>    0.240</td>\n",
       "</tr>\n",
       "<tr>\n",
       "  <th>Husband_education_Secondary</th>  <td>    0.1694</td> <td>    0.150</td> <td>    1.129</td> <td> 0.259</td> <td>   -0.125</td> <td>    0.463</td>\n",
       "</tr>\n",
       "<tr>\n",
       "  <th>Husband_education_Uneducated</th> <td>   -0.3422</td> <td>    0.390</td> <td>   -0.877</td> <td> 0.380</td> <td>   -1.107</td> <td>    0.422</td>\n",
       "</tr>\n",
       "</table>"
      ],
      "text/plain": [
       "<class 'statsmodels.iolib.summary.Summary'>\n",
       "\"\"\"\n",
       "                                 Logit Regression Results                                \n",
       "=========================================================================================\n",
       "Dep. Variable:     Contraceptive_method_used_Yes   No. Observations:                 1383\n",
       "Model:                                     Logit   Df Residuals:                     1371\n",
       "Method:                                      MLE   Df Model:                           11\n",
       "Date:                           Sun, 12 Feb 2023   Pseudo R-squ.:                  0.1449\n",
       "Time:                                   17:40:06   Log-Likelihood:                -812.11\n",
       "converged:                                  True   LL-Null:                       -949.69\n",
       "Covariance Type:                       nonrobust   LLR p-value:                 1.471e-52\n",
       "================================================================================================\n",
       "                                   coef    std err          z      P>|z|      [0.025      0.975]\n",
       "------------------------------------------------------------------------------------------------\n",
       "Intercept                        1.1365      0.355      3.203      0.001       0.441       1.832\n",
       "Wife_age                        -0.0980      0.010     -9.586      0.000      -0.118      -0.078\n",
       "No_of_children_born              0.5687      0.048     11.833      0.000       0.475       0.663\n",
       "Standard_of_living_index         0.2244      0.068      3.286      0.001       0.091       0.358\n",
       "Wife_religion_Scientology       -0.4464      0.180     -2.482      0.013      -0.799      -0.094\n",
       "Wife_Working_Yes                -0.0819      0.140     -0.585      0.558      -0.356       0.192\n",
       "Media_exposure_Not_Exposed      -0.5151      0.254     -2.029      0.042      -1.013      -0.017\n",
       "Wife_education_Secondary         0.5019      0.165      3.049      0.002       0.179       0.824\n",
       "Wife_education_Tertiary          1.1690      0.179      6.528      0.000       0.818       1.520\n",
       "Wife_education_Uneducated       -0.2367      0.243     -0.974      0.330      -0.713       0.240\n",
       "Husband_education_Secondary      0.1694      0.150      1.129      0.259      -0.125       0.463\n",
       "Husband_education_Uneducated    -0.3422      0.390     -0.877      0.380      -1.107       0.422\n",
       "================================================================================================\n",
       "\"\"\""
      ]
     },
     "execution_count": 92,
     "metadata": {},
     "output_type": "execute_result"
    }
   ],
   "source": [
    "model_stats_4 = sm.logit(formula=fo_5,data = data).fit()\n",
    "model_stats_4.summary()"
   ]
  },
  {
   "cell_type": "code",
   "execution_count": 93,
   "id": "b89a5e60",
   "metadata": {},
   "outputs": [],
   "source": [
    "X_train_1 = X_train_1.drop('Husband_education_Tertiary',axis=1)"
   ]
  },
  {
   "cell_type": "code",
   "execution_count": 94,
   "id": "eb1229aa",
   "metadata": {},
   "outputs": [
    {
     "name": "stdout",
     "output_type": "stream",
     "text": [
      "VIF values: \n",
      "\n",
      "Wife_age                        15.861530\n",
      "No_of_children_born              5.332807\n",
      "Standard_of_living_index         6.574986\n",
      "Wife_religion_Scientology        4.633202\n",
      "Wife_Working_Yes                 1.356998\n",
      "Media_exposure_Not_Exposed       1.317428\n",
      "Wife_education_Secondary         2.185445\n",
      "Wife_education_Tertiary          3.145396\n",
      "Wife_education_Uneducated        1.677826\n",
      "Husband_education_Secondary      1.520770\n",
      "Husband_education_Uneducated     1.129759\n",
      "dtype: float64\n",
      "\n"
     ]
    }
   ],
   "source": [
    "vif_series3 = pd.Series(\n",
    "    [variance_inflation_factor(X_train_1.values, i) for i in range(X_train_1.shape[1])],\n",
    "    index=X_train_1.columns,\n",
    ")\n",
    "print(\"VIF values: \\n\\n{}\\n\".format(vif_series3))"
   ]
  },
  {
   "cell_type": "code",
   "execution_count": 95,
   "id": "97b903d2",
   "metadata": {},
   "outputs": [],
   "source": [
    "#Removing wife age agian to see there is any changes in the psuedo r squared values\n",
    "fo_6 = 'Contraceptive_method_used_Yes~No_of_children_born+Standard_of_living_index+Wife_religion_Scientology+Wife_Working_Yes+Media_exposure_Not_Exposed+Wife_education_Secondary+Wife_education_Tertiary+Wife_education_Uneducated+Husband_education_Secondary+Husband_education_Uneducated'"
   ]
  },
  {
   "cell_type": "code",
   "execution_count": 96,
   "id": "e8d05fd7",
   "metadata": {},
   "outputs": [
    {
     "name": "stdout",
     "output_type": "stream",
     "text": [
      "Optimization terminated successfully.\n",
      "         Current function value: 0.624893\n",
      "         Iterations 5\n"
     ]
    },
    {
     "data": {
      "text/html": [
       "<table class=\"simpletable\">\n",
       "<caption>Logit Regression Results</caption>\n",
       "<tr>\n",
       "  <th>Dep. Variable:</th>   <td>Contraceptive_method_used_Yes</td> <th>  No. Observations:  </th>  <td>  1383</td>  \n",
       "</tr>\n",
       "<tr>\n",
       "  <th>Model:</th>                       <td>Logit</td>             <th>  Df Residuals:      </th>  <td>  1372</td>  \n",
       "</tr>\n",
       "<tr>\n",
       "  <th>Method:</th>                       <td>MLE</td>              <th>  Df Model:          </th>  <td>    10</td>  \n",
       "</tr>\n",
       "<tr>\n",
       "  <th>Date:</th>                  <td>Sun, 12 Feb 2023</td>        <th>  Pseudo R-squ.:     </th>  <td>0.08999</td> \n",
       "</tr>\n",
       "<tr>\n",
       "  <th>Time:</th>                      <td>17:40:06</td>            <th>  Log-Likelihood:    </th> <td> -864.23</td> \n",
       "</tr>\n",
       "<tr>\n",
       "  <th>converged:</th>                   <td>True</td>              <th>  LL-Null:           </th> <td> -949.69</td> \n",
       "</tr>\n",
       "<tr>\n",
       "  <th>Covariance Type:</th>           <td>nonrobust</td>           <th>  LLR p-value:       </th> <td>1.781e-31</td>\n",
       "</tr>\n",
       "</table>\n",
       "<table class=\"simpletable\">\n",
       "<tr>\n",
       "                <td></td>                  <th>coef</th>     <th>std err</th>      <th>z</th>      <th>P>|z|</th>  <th>[0.025</th>    <th>0.975]</th>  \n",
       "</tr>\n",
       "<tr>\n",
       "  <th>Intercept</th>                    <td>   -1.0893</td> <td>    0.268</td> <td>   -4.058</td> <td> 0.000</td> <td>   -1.615</td> <td>   -0.563</td>\n",
       "</tr>\n",
       "<tr>\n",
       "  <th>No_of_children_born</th>          <td>    0.3051</td> <td>    0.036</td> <td>    8.574</td> <td> 0.000</td> <td>    0.235</td> <td>    0.375</td>\n",
       "</tr>\n",
       "<tr>\n",
       "  <th>Standard_of_living_index</th>     <td>    0.1025</td> <td>    0.064</td> <td>    1.590</td> <td> 0.112</td> <td>   -0.024</td> <td>    0.229</td>\n",
       "</tr>\n",
       "<tr>\n",
       "  <th>Wife_religion_Scientology</th>    <td>   -0.1247</td> <td>    0.170</td> <td>   -0.735</td> <td> 0.463</td> <td>   -0.457</td> <td>    0.208</td>\n",
       "</tr>\n",
       "<tr>\n",
       "  <th>Wife_Working_Yes</th>             <td>   -0.1863</td> <td>    0.134</td> <td>   -1.393</td> <td> 0.164</td> <td>   -0.448</td> <td>    0.076</td>\n",
       "</tr>\n",
       "<tr>\n",
       "  <th>Media_exposure_Not_Exposed</th>   <td>   -0.6213</td> <td>    0.244</td> <td>   -2.549</td> <td> 0.011</td> <td>   -1.099</td> <td>   -0.144</td>\n",
       "</tr>\n",
       "<tr>\n",
       "  <th>Wife_education_Secondary</th>     <td>    0.4340</td> <td>    0.158</td> <td>    2.752</td> <td> 0.006</td> <td>    0.125</td> <td>    0.743</td>\n",
       "</tr>\n",
       "<tr>\n",
       "  <th>Wife_education_Tertiary</th>      <td>    0.9257</td> <td>    0.169</td> <td>    5.475</td> <td> 0.000</td> <td>    0.594</td> <td>    1.257</td>\n",
       "</tr>\n",
       "<tr>\n",
       "  <th>Wife_education_Uneducated</th>    <td>   -0.5699</td> <td>    0.229</td> <td>   -2.489</td> <td> 0.013</td> <td>   -1.019</td> <td>   -0.121</td>\n",
       "</tr>\n",
       "<tr>\n",
       "  <th>Husband_education_Secondary</th>  <td>    0.1461</td> <td>    0.144</td> <td>    1.016</td> <td> 0.310</td> <td>   -0.136</td> <td>    0.428</td>\n",
       "</tr>\n",
       "<tr>\n",
       "  <th>Husband_education_Uneducated</th> <td>   -0.5179</td> <td>    0.370</td> <td>   -1.399</td> <td> 0.162</td> <td>   -1.243</td> <td>    0.208</td>\n",
       "</tr>\n",
       "</table>"
      ],
      "text/plain": [
       "<class 'statsmodels.iolib.summary.Summary'>\n",
       "\"\"\"\n",
       "                                 Logit Regression Results                                \n",
       "=========================================================================================\n",
       "Dep. Variable:     Contraceptive_method_used_Yes   No. Observations:                 1383\n",
       "Model:                                     Logit   Df Residuals:                     1372\n",
       "Method:                                      MLE   Df Model:                           10\n",
       "Date:                           Sun, 12 Feb 2023   Pseudo R-squ.:                 0.08999\n",
       "Time:                                   17:40:06   Log-Likelihood:                -864.23\n",
       "converged:                                  True   LL-Null:                       -949.69\n",
       "Covariance Type:                       nonrobust   LLR p-value:                 1.781e-31\n",
       "================================================================================================\n",
       "                                   coef    std err          z      P>|z|      [0.025      0.975]\n",
       "------------------------------------------------------------------------------------------------\n",
       "Intercept                       -1.0893      0.268     -4.058      0.000      -1.615      -0.563\n",
       "No_of_children_born              0.3051      0.036      8.574      0.000       0.235       0.375\n",
       "Standard_of_living_index         0.1025      0.064      1.590      0.112      -0.024       0.229\n",
       "Wife_religion_Scientology       -0.1247      0.170     -0.735      0.463      -0.457       0.208\n",
       "Wife_Working_Yes                -0.1863      0.134     -1.393      0.164      -0.448       0.076\n",
       "Media_exposure_Not_Exposed      -0.6213      0.244     -2.549      0.011      -1.099      -0.144\n",
       "Wife_education_Secondary         0.4340      0.158      2.752      0.006       0.125       0.743\n",
       "Wife_education_Tertiary          0.9257      0.169      5.475      0.000       0.594       1.257\n",
       "Wife_education_Uneducated       -0.5699      0.229     -2.489      0.013      -1.019      -0.121\n",
       "Husband_education_Secondary      0.1461      0.144      1.016      0.310      -0.136       0.428\n",
       "Husband_education_Uneducated    -0.5179      0.370     -1.399      0.162      -1.243       0.208\n",
       "================================================================================================\n",
       "\"\"\""
      ]
     },
     "execution_count": 96,
     "metadata": {},
     "output_type": "execute_result"
    }
   ],
   "source": [
    "model_stats_5 = sm.logit(formula=fo_6,data = data).fit()\n",
    "model_stats_5.summary()"
   ]
  },
  {
   "cell_type": "code",
   "execution_count": 97,
   "id": "47d08d14",
   "metadata": {},
   "outputs": [],
   "source": [
    "#Removing standard of living\n",
    "fo_7 = 'Contraceptive_method_used_Yes~Wife_age+No_of_children_born+Wife_religion_Scientology+Wife_Working_Yes+Media_exposure_Not_Exposed+Wife_education_Secondary+Wife_education_Tertiary+Wife_education_Uneducated+Husband_education_Secondary+Husband_education_Uneducated'"
   ]
  },
  {
   "cell_type": "code",
   "execution_count": 98,
   "id": "19ca525e",
   "metadata": {},
   "outputs": [
    {
     "name": "stdout",
     "output_type": "stream",
     "text": [
      "Optimization terminated successfully.\n",
      "         Current function value: 0.591136\n",
      "         Iterations 6\n"
     ]
    },
    {
     "data": {
      "text/html": [
       "<table class=\"simpletable\">\n",
       "<caption>Logit Regression Results</caption>\n",
       "<tr>\n",
       "  <th>Dep. Variable:</th>   <td>Contraceptive_method_used_Yes</td> <th>  No. Observations:  </th>  <td>  1383</td>  \n",
       "</tr>\n",
       "<tr>\n",
       "  <th>Model:</th>                       <td>Logit</td>             <th>  Df Residuals:      </th>  <td>  1372</td>  \n",
       "</tr>\n",
       "<tr>\n",
       "  <th>Method:</th>                       <td>MLE</td>              <th>  Df Model:          </th>  <td>    10</td>  \n",
       "</tr>\n",
       "<tr>\n",
       "  <th>Date:</th>                  <td>Sun, 12 Feb 2023</td>        <th>  Pseudo R-squ.:     </th>  <td>0.1392</td>  \n",
       "</tr>\n",
       "<tr>\n",
       "  <th>Time:</th>                      <td>17:40:07</td>            <th>  Log-Likelihood:    </th> <td> -817.54</td> \n",
       "</tr>\n",
       "<tr>\n",
       "  <th>converged:</th>                   <td>True</td>              <th>  LL-Null:           </th> <td> -949.69</td> \n",
       "</tr>\n",
       "<tr>\n",
       "  <th>Covariance Type:</th>           <td>nonrobust</td>           <th>  LLR p-value:       </th> <td>5.310e-51</td>\n",
       "</tr>\n",
       "</table>\n",
       "<table class=\"simpletable\">\n",
       "<tr>\n",
       "                <td></td>                  <th>coef</th>     <th>std err</th>      <th>z</th>      <th>P>|z|</th>  <th>[0.025</th>    <th>0.975]</th>  \n",
       "</tr>\n",
       "<tr>\n",
       "  <th>Intercept</th>                    <td>    1.4526</td> <td>    0.341</td> <td>    4.256</td> <td> 0.000</td> <td>    0.784</td> <td>    2.122</td>\n",
       "</tr>\n",
       "<tr>\n",
       "  <th>Wife_age</th>                     <td>   -0.0922</td> <td>    0.010</td> <td>   -9.240</td> <td> 0.000</td> <td>   -0.112</td> <td>   -0.073</td>\n",
       "</tr>\n",
       "<tr>\n",
       "  <th>No_of_children_born</th>          <td>    0.5640</td> <td>    0.048</td> <td>   11.810</td> <td> 0.000</td> <td>    0.470</td> <td>    0.658</td>\n",
       "</tr>\n",
       "<tr>\n",
       "  <th>Wife_religion_Scientology</th>    <td>   -0.5045</td> <td>    0.179</td> <td>   -2.818</td> <td> 0.005</td> <td>   -0.855</td> <td>   -0.154</td>\n",
       "</tr>\n",
       "<tr>\n",
       "  <th>Wife_Working_Yes</th>             <td>   -0.0535</td> <td>    0.139</td> <td>   -0.384</td> <td> 0.701</td> <td>   -0.326</td> <td>    0.219</td>\n",
       "</tr>\n",
       "<tr>\n",
       "  <th>Media_exposure_Not_Exposed</th>   <td>   -0.6813</td> <td>    0.249</td> <td>   -2.738</td> <td> 0.006</td> <td>   -1.169</td> <td>   -0.194</td>\n",
       "</tr>\n",
       "<tr>\n",
       "  <th>Wife_education_Secondary</th>     <td>    0.5275</td> <td>    0.164</td> <td>    3.226</td> <td> 0.001</td> <td>    0.207</td> <td>    0.848</td>\n",
       "</tr>\n",
       "<tr>\n",
       "  <th>Wife_education_Tertiary</th>      <td>    1.2756</td> <td>    0.176</td> <td>    7.262</td> <td> 0.000</td> <td>    0.931</td> <td>    1.620</td>\n",
       "</tr>\n",
       "<tr>\n",
       "  <th>Wife_education_Uneducated</th>    <td>   -0.2426</td> <td>    0.242</td> <td>   -1.004</td> <td> 0.315</td> <td>   -0.716</td> <td>    0.231</td>\n",
       "</tr>\n",
       "<tr>\n",
       "  <th>Husband_education_Secondary</th>  <td>    0.1226</td> <td>    0.149</td> <td>    0.825</td> <td> 0.409</td> <td>   -0.169</td> <td>    0.414</td>\n",
       "</tr>\n",
       "<tr>\n",
       "  <th>Husband_education_Uneducated</th> <td>   -0.4504</td> <td>    0.389</td> <td>   -1.157</td> <td> 0.247</td> <td>   -1.213</td> <td>    0.312</td>\n",
       "</tr>\n",
       "</table>"
      ],
      "text/plain": [
       "<class 'statsmodels.iolib.summary.Summary'>\n",
       "\"\"\"\n",
       "                                 Logit Regression Results                                \n",
       "=========================================================================================\n",
       "Dep. Variable:     Contraceptive_method_used_Yes   No. Observations:                 1383\n",
       "Model:                                     Logit   Df Residuals:                     1372\n",
       "Method:                                      MLE   Df Model:                           10\n",
       "Date:                           Sun, 12 Feb 2023   Pseudo R-squ.:                  0.1392\n",
       "Time:                                   17:40:07   Log-Likelihood:                -817.54\n",
       "converged:                                  True   LL-Null:                       -949.69\n",
       "Covariance Type:                       nonrobust   LLR p-value:                 5.310e-51\n",
       "================================================================================================\n",
       "                                   coef    std err          z      P>|z|      [0.025      0.975]\n",
       "------------------------------------------------------------------------------------------------\n",
       "Intercept                        1.4526      0.341      4.256      0.000       0.784       2.122\n",
       "Wife_age                        -0.0922      0.010     -9.240      0.000      -0.112      -0.073\n",
       "No_of_children_born              0.5640      0.048     11.810      0.000       0.470       0.658\n",
       "Wife_religion_Scientology       -0.5045      0.179     -2.818      0.005      -0.855      -0.154\n",
       "Wife_Working_Yes                -0.0535      0.139     -0.384      0.701      -0.326       0.219\n",
       "Media_exposure_Not_Exposed      -0.6813      0.249     -2.738      0.006      -1.169      -0.194\n",
       "Wife_education_Secondary         0.5275      0.164      3.226      0.001       0.207       0.848\n",
       "Wife_education_Tertiary          1.2756      0.176      7.262      0.000       0.931       1.620\n",
       "Wife_education_Uneducated       -0.2426      0.242     -1.004      0.315      -0.716       0.231\n",
       "Husband_education_Secondary      0.1226      0.149      0.825      0.409      -0.169       0.414\n",
       "Husband_education_Uneducated    -0.4504      0.389     -1.157      0.247      -1.213       0.312\n",
       "================================================================================================\n",
       "\"\"\""
      ]
     },
     "execution_count": 98,
     "metadata": {},
     "output_type": "execute_result"
    }
   ],
   "source": [
    "model_stats_6 = sm.logit(formula=fo_7,data = data).fit()\n",
    "model_stats_6.summary()"
   ]
  },
  {
   "cell_type": "code",
   "execution_count": 99,
   "id": "47f926f3",
   "metadata": {},
   "outputs": [],
   "source": [
    "#Removing Wife_Working_Yes\n",
    "fo_8 = 'Contraceptive_method_used_Yes~Wife_age+No_of_children_born+Wife_religion_Scientology+Media_exposure_Not_Exposed+Wife_education_Secondary+Wife_education_Tertiary+Wife_education_Uneducated+Husband_education_Secondary+Husband_education_Uneducated'"
   ]
  },
  {
   "cell_type": "code",
   "execution_count": 100,
   "id": "fe1a29f2",
   "metadata": {},
   "outputs": [
    {
     "name": "stdout",
     "output_type": "stream",
     "text": [
      "Optimization terminated successfully.\n",
      "         Current function value: 0.591190\n",
      "         Iterations 6\n"
     ]
    },
    {
     "data": {
      "text/html": [
       "<table class=\"simpletable\">\n",
       "<caption>Logit Regression Results</caption>\n",
       "<tr>\n",
       "  <th>Dep. Variable:</th>   <td>Contraceptive_method_used_Yes</td> <th>  No. Observations:  </th>  <td>  1383</td>  \n",
       "</tr>\n",
       "<tr>\n",
       "  <th>Model:</th>                       <td>Logit</td>             <th>  Df Residuals:      </th>  <td>  1373</td>  \n",
       "</tr>\n",
       "<tr>\n",
       "  <th>Method:</th>                       <td>MLE</td>              <th>  Df Model:          </th>  <td>     9</td>  \n",
       "</tr>\n",
       "<tr>\n",
       "  <th>Date:</th>                  <td>Sun, 12 Feb 2023</td>        <th>  Pseudo R-squ.:     </th>  <td>0.1391</td>  \n",
       "</tr>\n",
       "<tr>\n",
       "  <th>Time:</th>                      <td>17:40:07</td>            <th>  Log-Likelihood:    </th> <td> -817.62</td> \n",
       "</tr>\n",
       "<tr>\n",
       "  <th>converged:</th>                   <td>True</td>              <th>  LL-Null:           </th> <td> -949.69</td> \n",
       "</tr>\n",
       "<tr>\n",
       "  <th>Covariance Type:</th>           <td>nonrobust</td>           <th>  LLR p-value:       </th> <td>1.020e-51</td>\n",
       "</tr>\n",
       "</table>\n",
       "<table class=\"simpletable\">\n",
       "<tr>\n",
       "                <td></td>                  <th>coef</th>     <th>std err</th>      <th>z</th>      <th>P>|z|</th>  <th>[0.025</th>    <th>0.975]</th>  \n",
       "</tr>\n",
       "<tr>\n",
       "  <th>Intercept</th>                    <td>    1.4451</td> <td>    0.341</td> <td>    4.241</td> <td> 0.000</td> <td>    0.777</td> <td>    2.113</td>\n",
       "</tr>\n",
       "<tr>\n",
       "  <th>Wife_age</th>                     <td>   -0.0925</td> <td>    0.010</td> <td>   -9.304</td> <td> 0.000</td> <td>   -0.112</td> <td>   -0.073</td>\n",
       "</tr>\n",
       "<tr>\n",
       "  <th>No_of_children_born</th>          <td>    0.5662</td> <td>    0.047</td> <td>   11.931</td> <td> 0.000</td> <td>    0.473</td> <td>    0.659</td>\n",
       "</tr>\n",
       "<tr>\n",
       "  <th>Wife_religion_Scientology</th>    <td>   -0.5037</td> <td>    0.179</td> <td>   -2.814</td> <td> 0.005</td> <td>   -0.854</td> <td>   -0.153</td>\n",
       "</tr>\n",
       "<tr>\n",
       "  <th>Media_exposure_Not_Exposed</th>   <td>   -0.6838</td> <td>    0.249</td> <td>   -2.749</td> <td> 0.006</td> <td>   -1.171</td> <td>   -0.196</td>\n",
       "</tr>\n",
       "<tr>\n",
       "  <th>Wife_education_Secondary</th>     <td>    0.5271</td> <td>    0.164</td> <td>    3.223</td> <td> 0.001</td> <td>    0.207</td> <td>    0.848</td>\n",
       "</tr>\n",
       "<tr>\n",
       "  <th>Wife_education_Tertiary</th>      <td>    1.2716</td> <td>    0.175</td> <td>    7.255</td> <td> 0.000</td> <td>    0.928</td> <td>    1.615</td>\n",
       "</tr>\n",
       "<tr>\n",
       "  <th>Wife_education_Uneducated</th>    <td>   -0.2417</td> <td>    0.242</td> <td>   -1.000</td> <td> 0.317</td> <td>   -0.715</td> <td>    0.232</td>\n",
       "</tr>\n",
       "<tr>\n",
       "  <th>Husband_education_Secondary</th>  <td>    0.1198</td> <td>    0.148</td> <td>    0.807</td> <td> 0.419</td> <td>   -0.171</td> <td>    0.411</td>\n",
       "</tr>\n",
       "<tr>\n",
       "  <th>Husband_education_Uneducated</th> <td>   -0.4561</td> <td>    0.389</td> <td>   -1.173</td> <td> 0.241</td> <td>   -1.218</td> <td>    0.306</td>\n",
       "</tr>\n",
       "</table>"
      ],
      "text/plain": [
       "<class 'statsmodels.iolib.summary.Summary'>\n",
       "\"\"\"\n",
       "                                 Logit Regression Results                                \n",
       "=========================================================================================\n",
       "Dep. Variable:     Contraceptive_method_used_Yes   No. Observations:                 1383\n",
       "Model:                                     Logit   Df Residuals:                     1373\n",
       "Method:                                      MLE   Df Model:                            9\n",
       "Date:                           Sun, 12 Feb 2023   Pseudo R-squ.:                  0.1391\n",
       "Time:                                   17:40:07   Log-Likelihood:                -817.62\n",
       "converged:                                  True   LL-Null:                       -949.69\n",
       "Covariance Type:                       nonrobust   LLR p-value:                 1.020e-51\n",
       "================================================================================================\n",
       "                                   coef    std err          z      P>|z|      [0.025      0.975]\n",
       "------------------------------------------------------------------------------------------------\n",
       "Intercept                        1.4451      0.341      4.241      0.000       0.777       2.113\n",
       "Wife_age                        -0.0925      0.010     -9.304      0.000      -0.112      -0.073\n",
       "No_of_children_born              0.5662      0.047     11.931      0.000       0.473       0.659\n",
       "Wife_religion_Scientology       -0.5037      0.179     -2.814      0.005      -0.854      -0.153\n",
       "Media_exposure_Not_Exposed      -0.6838      0.249     -2.749      0.006      -1.171      -0.196\n",
       "Wife_education_Secondary         0.5271      0.164      3.223      0.001       0.207       0.848\n",
       "Wife_education_Tertiary          1.2716      0.175      7.255      0.000       0.928       1.615\n",
       "Wife_education_Uneducated       -0.2417      0.242     -1.000      0.317      -0.715       0.232\n",
       "Husband_education_Secondary      0.1198      0.148      0.807      0.419      -0.171       0.411\n",
       "Husband_education_Uneducated    -0.4561      0.389     -1.173      0.241      -1.218       0.306\n",
       "================================================================================================\n",
       "\"\"\""
      ]
     },
     "execution_count": 100,
     "metadata": {},
     "output_type": "execute_result"
    }
   ],
   "source": [
    "model_stats_7 = sm.logit(formula=fo_8,data = data).fit()\n",
    "model_stats_7.summary()"
   ]
  },
  {
   "cell_type": "code",
   "execution_count": 101,
   "id": "583c3d15",
   "metadata": {},
   "outputs": [],
   "source": [
    "#Removing Wife_education_Uneducated\n",
    "fo_9 = 'Contraceptive_method_used_Yes~Wife_age+No_of_children_born+Wife_religion_Scientology+Media_exposure_Not_Exposed+Wife_education_Secondary+Wife_education_Tertiary+Husband_education_Secondary+Husband_education_Uneducated'"
   ]
  },
  {
   "cell_type": "code",
   "execution_count": 102,
   "id": "51713c24",
   "metadata": {},
   "outputs": [
    {
     "name": "stdout",
     "output_type": "stream",
     "text": [
      "Optimization terminated successfully.\n",
      "         Current function value: 0.591553\n",
      "         Iterations 6\n"
     ]
    },
    {
     "data": {
      "text/html": [
       "<table class=\"simpletable\">\n",
       "<caption>Logit Regression Results</caption>\n",
       "<tr>\n",
       "  <th>Dep. Variable:</th>   <td>Contraceptive_method_used_Yes</td> <th>  No. Observations:  </th>  <td>  1383</td>  \n",
       "</tr>\n",
       "<tr>\n",
       "  <th>Model:</th>                       <td>Logit</td>             <th>  Df Residuals:      </th>  <td>  1374</td>  \n",
       "</tr>\n",
       "<tr>\n",
       "  <th>Method:</th>                       <td>MLE</td>              <th>  Df Model:          </th>  <td>     8</td>  \n",
       "</tr>\n",
       "<tr>\n",
       "  <th>Date:</th>                  <td>Sun, 12 Feb 2023</td>        <th>  Pseudo R-squ.:     </th>  <td>0.1385</td>  \n",
       "</tr>\n",
       "<tr>\n",
       "  <th>Time:</th>                      <td>17:40:07</td>            <th>  Log-Likelihood:    </th> <td> -818.12</td> \n",
       "</tr>\n",
       "<tr>\n",
       "  <th>converged:</th>                   <td>True</td>              <th>  LL-Null:           </th> <td> -949.69</td> \n",
       "</tr>\n",
       "<tr>\n",
       "  <th>Covariance Type:</th>           <td>nonrobust</td>           <th>  LLR p-value:       </th> <td>2.800e-52</td>\n",
       "</tr>\n",
       "</table>\n",
       "<table class=\"simpletable\">\n",
       "<tr>\n",
       "                <td></td>                  <th>coef</th>     <th>std err</th>      <th>z</th>      <th>P>|z|</th>  <th>[0.025</th>    <th>0.975]</th>  \n",
       "</tr>\n",
       "<tr>\n",
       "  <th>Intercept</th>                    <td>    1.4401</td> <td>    0.341</td> <td>    4.225</td> <td> 0.000</td> <td>    0.772</td> <td>    2.108</td>\n",
       "</tr>\n",
       "<tr>\n",
       "  <th>Wife_age</th>                     <td>   -0.0937</td> <td>    0.010</td> <td>   -9.510</td> <td> 0.000</td> <td>   -0.113</td> <td>   -0.074</td>\n",
       "</tr>\n",
       "<tr>\n",
       "  <th>No_of_children_born</th>          <td>    0.5665</td> <td>    0.047</td> <td>   11.951</td> <td> 0.000</td> <td>    0.474</td> <td>    0.659</td>\n",
       "</tr>\n",
       "<tr>\n",
       "  <th>Wife_religion_Scientology</th>    <td>   -0.5157</td> <td>    0.179</td> <td>   -2.883</td> <td> 0.004</td> <td>   -0.866</td> <td>   -0.165</td>\n",
       "</tr>\n",
       "<tr>\n",
       "  <th>Media_exposure_Not_Exposed</th>   <td>   -0.7444</td> <td>    0.241</td> <td>   -3.092</td> <td> 0.002</td> <td>   -1.216</td> <td>   -0.273</td>\n",
       "</tr>\n",
       "<tr>\n",
       "  <th>Wife_education_Secondary</th>     <td>    0.5830</td> <td>    0.154</td> <td>    3.787</td> <td> 0.000</td> <td>    0.281</td> <td>    0.885</td>\n",
       "</tr>\n",
       "<tr>\n",
       "  <th>Wife_education_Tertiary</th>      <td>    1.3274</td> <td>    0.166</td> <td>    7.980</td> <td> 0.000</td> <td>    1.001</td> <td>    1.653</td>\n",
       "</tr>\n",
       "<tr>\n",
       "  <th>Husband_education_Secondary</th>  <td>    0.1236</td> <td>    0.148</td> <td>    0.834</td> <td> 0.404</td> <td>   -0.167</td> <td>    0.414</td>\n",
       "</tr>\n",
       "<tr>\n",
       "  <th>Husband_education_Uneducated</th> <td>   -0.5169</td> <td>    0.384</td> <td>   -1.347</td> <td> 0.178</td> <td>   -1.269</td> <td>    0.235</td>\n",
       "</tr>\n",
       "</table>"
      ],
      "text/plain": [
       "<class 'statsmodels.iolib.summary.Summary'>\n",
       "\"\"\"\n",
       "                                 Logit Regression Results                                \n",
       "=========================================================================================\n",
       "Dep. Variable:     Contraceptive_method_used_Yes   No. Observations:                 1383\n",
       "Model:                                     Logit   Df Residuals:                     1374\n",
       "Method:                                      MLE   Df Model:                            8\n",
       "Date:                           Sun, 12 Feb 2023   Pseudo R-squ.:                  0.1385\n",
       "Time:                                   17:40:07   Log-Likelihood:                -818.12\n",
       "converged:                                  True   LL-Null:                       -949.69\n",
       "Covariance Type:                       nonrobust   LLR p-value:                 2.800e-52\n",
       "================================================================================================\n",
       "                                   coef    std err          z      P>|z|      [0.025      0.975]\n",
       "------------------------------------------------------------------------------------------------\n",
       "Intercept                        1.4401      0.341      4.225      0.000       0.772       2.108\n",
       "Wife_age                        -0.0937      0.010     -9.510      0.000      -0.113      -0.074\n",
       "No_of_children_born              0.5665      0.047     11.951      0.000       0.474       0.659\n",
       "Wife_religion_Scientology       -0.5157      0.179     -2.883      0.004      -0.866      -0.165\n",
       "Media_exposure_Not_Exposed      -0.7444      0.241     -3.092      0.002      -1.216      -0.273\n",
       "Wife_education_Secondary         0.5830      0.154      3.787      0.000       0.281       0.885\n",
       "Wife_education_Tertiary          1.3274      0.166      7.980      0.000       1.001       1.653\n",
       "Husband_education_Secondary      0.1236      0.148      0.834      0.404      -0.167       0.414\n",
       "Husband_education_Uneducated    -0.5169      0.384     -1.347      0.178      -1.269       0.235\n",
       "================================================================================================\n",
       "\"\"\""
      ]
     },
     "execution_count": 102,
     "metadata": {},
     "output_type": "execute_result"
    }
   ],
   "source": [
    "model_stats_8 = sm.logit(formula=fo_9,data = data).fit()\n",
    "model_stats_8.summary()"
   ]
  },
  {
   "cell_type": "code",
   "execution_count": 103,
   "id": "967e66ed",
   "metadata": {},
   "outputs": [],
   "source": [
    "#Removing Husband_education_Secondary\n",
    "fo_10 = 'Contraceptive_method_used_Yes~Wife_age+No_of_children_born+Wife_religion_Scientology+Media_exposure_Not_Exposed+Wife_education_Secondary+Wife_education_Tertiary+Husband_education_Uneducated'"
   ]
  },
  {
   "cell_type": "code",
   "execution_count": 104,
   "id": "04e87606",
   "metadata": {},
   "outputs": [
    {
     "name": "stdout",
     "output_type": "stream",
     "text": [
      "Optimization terminated successfully.\n",
      "         Current function value: 0.591804\n",
      "         Iterations 6\n"
     ]
    },
    {
     "data": {
      "text/html": [
       "<table class=\"simpletable\">\n",
       "<caption>Logit Regression Results</caption>\n",
       "<tr>\n",
       "  <th>Dep. Variable:</th>   <td>Contraceptive_method_used_Yes</td> <th>  No. Observations:  </th>  <td>  1383</td>  \n",
       "</tr>\n",
       "<tr>\n",
       "  <th>Model:</th>                       <td>Logit</td>             <th>  Df Residuals:      </th>  <td>  1375</td>  \n",
       "</tr>\n",
       "<tr>\n",
       "  <th>Method:</th>                       <td>MLE</td>              <th>  Df Model:          </th>  <td>     7</td>  \n",
       "</tr>\n",
       "<tr>\n",
       "  <th>Date:</th>                  <td>Sun, 12 Feb 2023</td>        <th>  Pseudo R-squ.:     </th>  <td>0.1382</td>  \n",
       "</tr>\n",
       "<tr>\n",
       "  <th>Time:</th>                      <td>17:40:07</td>            <th>  Log-Likelihood:    </th> <td> -818.47</td> \n",
       "</tr>\n",
       "<tr>\n",
       "  <th>converged:</th>                   <td>True</td>              <th>  LL-Null:           </th> <td> -949.69</td> \n",
       "</tr>\n",
       "<tr>\n",
       "  <th>Covariance Type:</th>           <td>nonrobust</td>           <th>  LLR p-value:       </th> <td>6.179e-53</td>\n",
       "</tr>\n",
       "</table>\n",
       "<table class=\"simpletable\">\n",
       "<tr>\n",
       "                <td></td>                  <th>coef</th>     <th>std err</th>      <th>z</th>      <th>P>|z|</th>  <th>[0.025</th>    <th>0.975]</th>  \n",
       "</tr>\n",
       "<tr>\n",
       "  <th>Intercept</th>                    <td>    1.4819</td> <td>    0.337</td> <td>    4.395</td> <td> 0.000</td> <td>    0.821</td> <td>    2.143</td>\n",
       "</tr>\n",
       "<tr>\n",
       "  <th>Wife_age</th>                     <td>   -0.0937</td> <td>    0.010</td> <td>   -9.517</td> <td> 0.000</td> <td>   -0.113</td> <td>   -0.074</td>\n",
       "</tr>\n",
       "<tr>\n",
       "  <th>No_of_children_born</th>          <td>    0.5672</td> <td>    0.047</td> <td>   11.976</td> <td> 0.000</td> <td>    0.474</td> <td>    0.660</td>\n",
       "</tr>\n",
       "<tr>\n",
       "  <th>Wife_religion_Scientology</th>    <td>   -0.5100</td> <td>    0.179</td> <td>   -2.853</td> <td> 0.004</td> <td>   -0.860</td> <td>   -0.160</td>\n",
       "</tr>\n",
       "<tr>\n",
       "  <th>Media_exposure_Not_Exposed</th>   <td>   -0.7587</td> <td>    0.240</td> <td>   -3.156</td> <td> 0.002</td> <td>   -1.230</td> <td>   -0.288</td>\n",
       "</tr>\n",
       "<tr>\n",
       "  <th>Wife_education_Secondary</th>     <td>    0.5813</td> <td>    0.154</td> <td>    3.778</td> <td> 0.000</td> <td>    0.280</td> <td>    0.883</td>\n",
       "</tr>\n",
       "<tr>\n",
       "  <th>Wife_education_Tertiary</th>      <td>    1.2857</td> <td>    0.158</td> <td>    8.118</td> <td> 0.000</td> <td>    0.975</td> <td>    1.596</td>\n",
       "</tr>\n",
       "<tr>\n",
       "  <th>Husband_education_Uneducated</th> <td>   -0.5621</td> <td>    0.380</td> <td>   -1.480</td> <td> 0.139</td> <td>   -1.307</td> <td>    0.183</td>\n",
       "</tr>\n",
       "</table>"
      ],
      "text/plain": [
       "<class 'statsmodels.iolib.summary.Summary'>\n",
       "\"\"\"\n",
       "                                 Logit Regression Results                                \n",
       "=========================================================================================\n",
       "Dep. Variable:     Contraceptive_method_used_Yes   No. Observations:                 1383\n",
       "Model:                                     Logit   Df Residuals:                     1375\n",
       "Method:                                      MLE   Df Model:                            7\n",
       "Date:                           Sun, 12 Feb 2023   Pseudo R-squ.:                  0.1382\n",
       "Time:                                   17:40:07   Log-Likelihood:                -818.47\n",
       "converged:                                  True   LL-Null:                       -949.69\n",
       "Covariance Type:                       nonrobust   LLR p-value:                 6.179e-53\n",
       "================================================================================================\n",
       "                                   coef    std err          z      P>|z|      [0.025      0.975]\n",
       "------------------------------------------------------------------------------------------------\n",
       "Intercept                        1.4819      0.337      4.395      0.000       0.821       2.143\n",
       "Wife_age                        -0.0937      0.010     -9.517      0.000      -0.113      -0.074\n",
       "No_of_children_born              0.5672      0.047     11.976      0.000       0.474       0.660\n",
       "Wife_religion_Scientology       -0.5100      0.179     -2.853      0.004      -0.860      -0.160\n",
       "Media_exposure_Not_Exposed      -0.7587      0.240     -3.156      0.002      -1.230      -0.288\n",
       "Wife_education_Secondary         0.5813      0.154      3.778      0.000       0.280       0.883\n",
       "Wife_education_Tertiary          1.2857      0.158      8.118      0.000       0.975       1.596\n",
       "Husband_education_Uneducated    -0.5621      0.380     -1.480      0.139      -1.307       0.183\n",
       "================================================================================================\n",
       "\"\"\""
      ]
     },
     "execution_count": 104,
     "metadata": {},
     "output_type": "execute_result"
    }
   ],
   "source": [
    "model_stats_9 = sm.logit(formula=fo_10,data = data).fit()\n",
    "model_stats_9.summary()"
   ]
  },
  {
   "cell_type": "code",
   "execution_count": 105,
   "id": "ed70270c",
   "metadata": {},
   "outputs": [],
   "source": [
    "#Removing Husband_education_Uneducated\n",
    "fo_11 = 'Contraceptive_method_used_Yes~Wife_age+No_of_children_born+Wife_religion_Scientology+Media_exposure_Not_Exposed+Wife_education_Secondary+Wife_education_Tertiary'"
   ]
  },
  {
   "cell_type": "code",
   "execution_count": 106,
   "id": "4e258c2c",
   "metadata": {},
   "outputs": [
    {
     "name": "stdout",
     "output_type": "stream",
     "text": [
      "Optimization terminated successfully.\n",
      "         Current function value: 0.592626\n",
      "         Iterations 6\n"
     ]
    },
    {
     "data": {
      "text/html": [
       "<table class=\"simpletable\">\n",
       "<caption>Logit Regression Results</caption>\n",
       "<tr>\n",
       "  <th>Dep. Variable:</th>   <td>Contraceptive_method_used_Yes</td> <th>  No. Observations:  </th>  <td>  1383</td>  \n",
       "</tr>\n",
       "<tr>\n",
       "  <th>Model:</th>                       <td>Logit</td>             <th>  Df Residuals:      </th>  <td>  1376</td>  \n",
       "</tr>\n",
       "<tr>\n",
       "  <th>Method:</th>                       <td>MLE</td>              <th>  Df Model:          </th>  <td>     6</td>  \n",
       "</tr>\n",
       "<tr>\n",
       "  <th>Date:</th>                  <td>Sun, 12 Feb 2023</td>        <th>  Pseudo R-squ.:     </th>  <td>0.1370</td>  \n",
       "</tr>\n",
       "<tr>\n",
       "  <th>Time:</th>                      <td>17:40:07</td>            <th>  Log-Likelihood:    </th> <td> -819.60</td> \n",
       "</tr>\n",
       "<tr>\n",
       "  <th>converged:</th>                   <td>True</td>              <th>  LL-Null:           </th> <td> -949.69</td> \n",
       "</tr>\n",
       "<tr>\n",
       "  <th>Covariance Type:</th>           <td>nonrobust</td>           <th>  LLR p-value:       </th> <td>2.732e-53</td>\n",
       "</tr>\n",
       "</table>\n",
       "<table class=\"simpletable\">\n",
       "<tr>\n",
       "               <td></td>                 <th>coef</th>     <th>std err</th>      <th>z</th>      <th>P>|z|</th>  <th>[0.025</th>    <th>0.975]</th>  \n",
       "</tr>\n",
       "<tr>\n",
       "  <th>Intercept</th>                  <td>    1.4857</td> <td>    0.337</td> <td>    4.412</td> <td> 0.000</td> <td>    0.826</td> <td>    2.146</td>\n",
       "</tr>\n",
       "<tr>\n",
       "  <th>Wife_age</th>                   <td>   -0.0946</td> <td>    0.010</td> <td>   -9.629</td> <td> 0.000</td> <td>   -0.114</td> <td>   -0.075</td>\n",
       "</tr>\n",
       "<tr>\n",
       "  <th>No_of_children_born</th>        <td>    0.5664</td> <td>    0.047</td> <td>   11.969</td> <td> 0.000</td> <td>    0.474</td> <td>    0.659</td>\n",
       "</tr>\n",
       "<tr>\n",
       "  <th>Wife_religion_Scientology</th>  <td>   -0.5173</td> <td>    0.179</td> <td>   -2.894</td> <td> 0.004</td> <td>   -0.868</td> <td>   -0.167</td>\n",
       "</tr>\n",
       "<tr>\n",
       "  <th>Media_exposure_Not_Exposed</th> <td>   -0.7976</td> <td>    0.238</td> <td>   -3.345</td> <td> 0.001</td> <td>   -1.265</td> <td>   -0.330</td>\n",
       "</tr>\n",
       "<tr>\n",
       "  <th>Wife_education_Secondary</th>   <td>    0.6067</td> <td>    0.153</td> <td>    3.968</td> <td> 0.000</td> <td>    0.307</td> <td>    0.906</td>\n",
       "</tr>\n",
       "<tr>\n",
       "  <th>Wife_education_Tertiary</th>    <td>    1.3165</td> <td>    0.157</td> <td>    8.381</td> <td> 0.000</td> <td>    1.009</td> <td>    1.624</td>\n",
       "</tr>\n",
       "</table>"
      ],
      "text/plain": [
       "<class 'statsmodels.iolib.summary.Summary'>\n",
       "\"\"\"\n",
       "                                 Logit Regression Results                                \n",
       "=========================================================================================\n",
       "Dep. Variable:     Contraceptive_method_used_Yes   No. Observations:                 1383\n",
       "Model:                                     Logit   Df Residuals:                     1376\n",
       "Method:                                      MLE   Df Model:                            6\n",
       "Date:                           Sun, 12 Feb 2023   Pseudo R-squ.:                  0.1370\n",
       "Time:                                   17:40:07   Log-Likelihood:                -819.60\n",
       "converged:                                  True   LL-Null:                       -949.69\n",
       "Covariance Type:                       nonrobust   LLR p-value:                 2.732e-53\n",
       "==============================================================================================\n",
       "                                 coef    std err          z      P>|z|      [0.025      0.975]\n",
       "----------------------------------------------------------------------------------------------\n",
       "Intercept                      1.4857      0.337      4.412      0.000       0.826       2.146\n",
       "Wife_age                      -0.0946      0.010     -9.629      0.000      -0.114      -0.075\n",
       "No_of_children_born            0.5664      0.047     11.969      0.000       0.474       0.659\n",
       "Wife_religion_Scientology     -0.5173      0.179     -2.894      0.004      -0.868      -0.167\n",
       "Media_exposure_Not_Exposed    -0.7976      0.238     -3.345      0.001      -1.265      -0.330\n",
       "Wife_education_Secondary       0.6067      0.153      3.968      0.000       0.307       0.906\n",
       "Wife_education_Tertiary        1.3165      0.157      8.381      0.000       1.009       1.624\n",
       "==============================================================================================\n",
       "\"\"\""
      ]
     },
     "execution_count": 106,
     "metadata": {},
     "output_type": "execute_result"
    }
   ],
   "source": [
    "model_stats_10 = sm.logit(formula=fo_11,data = data).fit()\n",
    "model_stats_10.summary()"
   ]
  },
  {
   "cell_type": "markdown",
   "id": "5c6a905a",
   "metadata": {},
   "source": [
    "### The following columns are removed from the dataset 'Standard_of_living_index','Wife_Working_Yes','Wife_education_Uneducated','Husband_education_Secondary','Husband_education_Uneducated'"
   ]
  },
  {
   "cell_type": "code",
   "execution_count": 107,
   "id": "5dd87e43",
   "metadata": {},
   "outputs": [],
   "source": [
    "X_train_1 = X_train_1.drop(columns = ['Standard_of_living_index','Wife_Working_Yes','Wife_education_Uneducated','Husband_education_Secondary','Husband_education_Uneducated'],axis=1)"
   ]
  },
  {
   "cell_type": "code",
   "execution_count": null,
   "id": "1da9c733",
   "metadata": {},
   "outputs": [],
   "source": []
  },
  {
   "cell_type": "code",
   "execution_count": 108,
   "id": "41e7fef3",
   "metadata": {},
   "outputs": [
    {
     "name": "stdout",
     "output_type": "stream",
     "text": [
      "VIF values: \n",
      "\n",
      "Wife_age                      10.781617\n",
      "No_of_children_born            5.213017\n",
      "Wife_religion_Scientology      4.429512\n",
      "Media_exposure_Not_Exposed     1.177066\n",
      "Wife_education_Secondary       1.800853\n",
      "Wife_education_Tertiary        2.239002\n",
      "dtype: float64\n",
      "\n"
     ]
    }
   ],
   "source": [
    "vif_series4 = pd.Series(\n",
    "    [variance_inflation_factor(X_train_1.values, i) for i in range(X_train_1.shape[1])],\n",
    "    index=X_train_1.columns,\n",
    ")\n",
    "print(\"VIF values: \\n\\n{}\\n\".format(vif_series4))"
   ]
  },
  {
   "cell_type": "markdown",
   "id": "75bf453f",
   "metadata": {},
   "source": [
    "### The columns to be removed from the data set are "
   ]
  },
  {
   "cell_type": "code",
   "execution_count": 109,
   "id": "9e2a59f1",
   "metadata": {},
   "outputs": [],
   "source": [
    "from sklearn.linear_model import LogisticRegression"
   ]
  },
  {
   "cell_type": "code",
   "execution_count": 110,
   "id": "7d581558",
   "metadata": {},
   "outputs": [],
   "source": [
    "LR = LogisticRegression(solver='newton-cg',penalty='none')"
   ]
  },
  {
   "cell_type": "code",
   "execution_count": 111,
   "id": "b047d9ee",
   "metadata": {},
   "outputs": [],
   "source": [
    "# Using train data"
   ]
  },
  {
   "cell_type": "code",
   "execution_count": 112,
   "id": "60b7c604",
   "metadata": {},
   "outputs": [],
   "source": [
    "base_model = LR.fit(X_train,y_train)"
   ]
  },
  {
   "cell_type": "code",
   "execution_count": 113,
   "id": "b61b6252",
   "metadata": {},
   "outputs": [
    {
     "data": {
      "text/plain": [
       "array([0.58201826])"
      ]
     },
     "execution_count": 113,
     "metadata": {},
     "output_type": "execute_result"
    }
   ],
   "source": [
    "base_model.intercept_"
   ]
  },
  {
   "cell_type": "code",
   "execution_count": 114,
   "id": "c2be34ed",
   "metadata": {},
   "outputs": [
    {
     "data": {
      "text/plain": [
       "array([[-0.10390837,  0.60073882,  0.16911357,  0.32585482, -0.53292681,\n",
       "        -0.00342944, -0.35733293,  0.50497762,  1.38811975, -0.26457862,\n",
       "         0.4685209 ,  0.0577456 , -0.66051907]])"
      ]
     },
     "execution_count": 114,
     "metadata": {},
     "output_type": "execute_result"
    }
   ],
   "source": [
    "base_model.coef_"
   ]
  },
  {
   "cell_type": "code",
   "execution_count": 115,
   "id": "100a5d11",
   "metadata": {},
   "outputs": [],
   "source": [
    "#Accuracy score for train data_BASE MODEL"
   ]
  },
  {
   "cell_type": "code",
   "execution_count": 116,
   "id": "1c95175a",
   "metadata": {},
   "outputs": [
    {
     "name": "stdout",
     "output_type": "stream",
     "text": [
      "Accuracy Score of Base_Model: 0.7138429752066116\n"
     ]
    }
   ],
   "source": [
    "print('Accuracy Score of Base_Model:',base_model.score(X_train, y_train))"
   ]
  },
  {
   "cell_type": "code",
   "execution_count": 117,
   "id": "da7bef2f",
   "metadata": {},
   "outputs": [],
   "source": [
    "#Accuracy score for test data_BASE MODEL"
   ]
  },
  {
   "cell_type": "code",
   "execution_count": 118,
   "id": "804628fa",
   "metadata": {},
   "outputs": [
    {
     "name": "stdout",
     "output_type": "stream",
     "text": [
      "Accuracy Score of Base_Model: 0.6337349397590362\n"
     ]
    }
   ],
   "source": [
    "print('Accuracy Score of Base_Model:',base_model.score(X_test, y_test))"
   ]
  },
  {
   "cell_type": "code",
   "execution_count": 119,
   "id": "a0422ee5",
   "metadata": {},
   "outputs": [
    {
     "name": "stdout",
     "output_type": "stream",
     "text": [
      "CLASSIFICATION REPORT FOR BASE MODEL TEST DATA \n",
      "\n",
      "              precision    recall  f1-score   support\n",
      "\n",
      "           0       0.66      0.51      0.57       200\n",
      "           1       0.62      0.75      0.68       215\n",
      "\n",
      "    accuracy                           0.63       415\n",
      "   macro avg       0.64      0.63      0.63       415\n",
      "weighted avg       0.64      0.63      0.63       415\n",
      "\n",
      "CLASSIFICATION REPORT FOR BASE MODEL TRAIN DATA \n",
      "\n",
      "              precision    recall  f1-score   support\n",
      "\n",
      "           0       0.70      0.57      0.63       413\n",
      "           1       0.72      0.82      0.77       555\n",
      "\n",
      "    accuracy                           0.71       968\n",
      "   macro avg       0.71      0.70      0.70       968\n",
      "weighted avg       0.71      0.71      0.71       968\n",
      "\n"
     ]
    }
   ],
   "source": [
    "#Base model test data classification report \n",
    "from sklearn.metrics import classification_report\n",
    "y_pred_base_model_test = LR.predict(X_test)\n",
    "\n",
    "y_pred_base_model_train = LR.predict(X_train)\n",
    "\n",
    "print('CLASSIFICATION REPORT FOR BASE MODEL TEST DATA \\n')\n",
    "print(classification_report(y_test, y_pred_base_model_test))\n",
    "print('CLASSIFICATION REPORT FOR BASE MODEL TRAIN DATA \\n')\n",
    "print(classification_report(y_train, y_pred_base_model_train))"
   ]
  },
  {
   "cell_type": "code",
   "execution_count": 120,
   "id": "e45b4348",
   "metadata": {},
   "outputs": [],
   "source": [
    "y_pred_prob_base_model_test = LR.predict_proba(X_test)"
   ]
  },
  {
   "cell_type": "code",
   "execution_count": 121,
   "id": "3afc3ef2",
   "metadata": {},
   "outputs": [],
   "source": [
    "y_pred_prob_base_model_train = LR.predict_proba(X_train)"
   ]
  },
  {
   "cell_type": "markdown",
   "id": "566d06d2",
   "metadata": {},
   "source": [
    "### Best model"
   ]
  },
  {
   "cell_type": "code",
   "execution_count": 122,
   "id": "ab696b89",
   "metadata": {},
   "outputs": [
    {
     "data": {
      "text/html": [
       "<div>\n",
       "<style scoped>\n",
       "    .dataframe tbody tr th:only-of-type {\n",
       "        vertical-align: middle;\n",
       "    }\n",
       "\n",
       "    .dataframe tbody tr th {\n",
       "        vertical-align: top;\n",
       "    }\n",
       "\n",
       "    .dataframe thead th {\n",
       "        text-align: right;\n",
       "    }\n",
       "</style>\n",
       "<table border=\"1\" class=\"dataframe\">\n",
       "  <thead>\n",
       "    <tr style=\"text-align: right;\">\n",
       "      <th></th>\n",
       "      <th>Wife_age</th>\n",
       "      <th>No_of_children_born</th>\n",
       "      <th>Wife_religion_Scientology</th>\n",
       "      <th>Media_exposure_Not_Exposed</th>\n",
       "      <th>Wife_education_Secondary</th>\n",
       "      <th>Wife_education_Tertiary</th>\n",
       "    </tr>\n",
       "  </thead>\n",
       "  <tbody>\n",
       "    <tr>\n",
       "      <th>407</th>\n",
       "      <td>47</td>\n",
       "      <td>2.0</td>\n",
       "      <td>1</td>\n",
       "      <td>0</td>\n",
       "      <td>1</td>\n",
       "      <td>0</td>\n",
       "    </tr>\n",
       "    <tr>\n",
       "      <th>454</th>\n",
       "      <td>36</td>\n",
       "      <td>2.0</td>\n",
       "      <td>1</td>\n",
       "      <td>0</td>\n",
       "      <td>0</td>\n",
       "      <td>1</td>\n",
       "    </tr>\n",
       "    <tr>\n",
       "      <th>1290</th>\n",
       "      <td>26</td>\n",
       "      <td>4.0</td>\n",
       "      <td>1</td>\n",
       "      <td>0</td>\n",
       "      <td>0</td>\n",
       "      <td>0</td>\n",
       "    </tr>\n",
       "    <tr>\n",
       "      <th>653</th>\n",
       "      <td>48</td>\n",
       "      <td>5.5</td>\n",
       "      <td>1</td>\n",
       "      <td>0</td>\n",
       "      <td>0</td>\n",
       "      <td>1</td>\n",
       "    </tr>\n",
       "    <tr>\n",
       "      <th>727</th>\n",
       "      <td>21</td>\n",
       "      <td>1.0</td>\n",
       "      <td>1</td>\n",
       "      <td>0</td>\n",
       "      <td>0</td>\n",
       "      <td>0</td>\n",
       "    </tr>\n",
       "    <tr>\n",
       "      <th>...</th>\n",
       "      <td>...</td>\n",
       "      <td>...</td>\n",
       "      <td>...</td>\n",
       "      <td>...</td>\n",
       "      <td>...</td>\n",
       "      <td>...</td>\n",
       "    </tr>\n",
       "    <tr>\n",
       "      <th>741</th>\n",
       "      <td>23</td>\n",
       "      <td>1.0</td>\n",
       "      <td>1</td>\n",
       "      <td>0</td>\n",
       "      <td>1</td>\n",
       "      <td>0</td>\n",
       "    </tr>\n",
       "    <tr>\n",
       "      <th>944</th>\n",
       "      <td>25</td>\n",
       "      <td>1.0</td>\n",
       "      <td>1</td>\n",
       "      <td>0</td>\n",
       "      <td>0</td>\n",
       "      <td>0</td>\n",
       "    </tr>\n",
       "    <tr>\n",
       "      <th>1148</th>\n",
       "      <td>25</td>\n",
       "      <td>1.0</td>\n",
       "      <td>1</td>\n",
       "      <td>0</td>\n",
       "      <td>1</td>\n",
       "      <td>0</td>\n",
       "    </tr>\n",
       "    <tr>\n",
       "      <th>238</th>\n",
       "      <td>39</td>\n",
       "      <td>5.5</td>\n",
       "      <td>1</td>\n",
       "      <td>0</td>\n",
       "      <td>1</td>\n",
       "      <td>0</td>\n",
       "    </tr>\n",
       "    <tr>\n",
       "      <th>1112</th>\n",
       "      <td>18</td>\n",
       "      <td>1.0</td>\n",
       "      <td>1</td>\n",
       "      <td>0</td>\n",
       "      <td>1</td>\n",
       "      <td>0</td>\n",
       "    </tr>\n",
       "  </tbody>\n",
       "</table>\n",
       "<p>968 rows × 6 columns</p>\n",
       "</div>"
      ],
      "text/plain": [
       "      Wife_age  No_of_children_born  Wife_religion_Scientology  \\\n",
       "407         47                  2.0                          1   \n",
       "454         36                  2.0                          1   \n",
       "1290        26                  4.0                          1   \n",
       "653         48                  5.5                          1   \n",
       "727         21                  1.0                          1   \n",
       "...        ...                  ...                        ...   \n",
       "741         23                  1.0                          1   \n",
       "944         25                  1.0                          1   \n",
       "1148        25                  1.0                          1   \n",
       "238         39                  5.5                          1   \n",
       "1112        18                  1.0                          1   \n",
       "\n",
       "      Media_exposure_Not_Exposed  Wife_education_Secondary  \\\n",
       "407                            0                         1   \n",
       "454                            0                         0   \n",
       "1290                           0                         0   \n",
       "653                            0                         0   \n",
       "727                            0                         0   \n",
       "...                          ...                       ...   \n",
       "741                            0                         1   \n",
       "944                            0                         0   \n",
       "1148                           0                         1   \n",
       "238                            0                         1   \n",
       "1112                           0                         1   \n",
       "\n",
       "      Wife_education_Tertiary  \n",
       "407                         0  \n",
       "454                         1  \n",
       "1290                        0  \n",
       "653                         1  \n",
       "727                         0  \n",
       "...                       ...  \n",
       "741                         0  \n",
       "944                         0  \n",
       "1148                        0  \n",
       "238                         0  \n",
       "1112                        0  \n",
       "\n",
       "[968 rows x 6 columns]"
      ]
     },
     "execution_count": 122,
     "metadata": {},
     "output_type": "execute_result"
    }
   ],
   "source": [
    "X_train_1"
   ]
  },
  {
   "cell_type": "code",
   "execution_count": 123,
   "id": "c3e795e3",
   "metadata": {},
   "outputs": [],
   "source": [
    "X_test_1 = X_test.copy()"
   ]
  },
  {
   "cell_type": "code",
   "execution_count": 124,
   "id": "9f442f4f",
   "metadata": {},
   "outputs": [],
   "source": [
    "# Dropping all columns same as done in train set"
   ]
  },
  {
   "cell_type": "code",
   "execution_count": 125,
   "id": "9fa56b98",
   "metadata": {},
   "outputs": [],
   "source": [
    "X_test_1 = X_test_1.drop(columns = ['Husband_Occupation','Husband_education_Tertiary','Standard_of_living_index','Wife_Working_Yes','Wife_education_Uneducated','Husband_education_Secondary','Husband_education_Uneducated'],axis=1)"
   ]
  },
  {
   "cell_type": "code",
   "execution_count": 126,
   "id": "6514e88c",
   "metadata": {},
   "outputs": [],
   "source": [
    "best_model = LR.fit(X_train_1,y_train)"
   ]
  },
  {
   "cell_type": "code",
   "execution_count": 127,
   "id": "324c48ae",
   "metadata": {},
   "outputs": [
    {
     "data": {
      "text/plain": [
       "array([1.74527352])"
      ]
     },
     "execution_count": 127,
     "metadata": {},
     "output_type": "execute_result"
    }
   ],
   "source": [
    "best_model.intercept_"
   ]
  },
  {
   "cell_type": "code",
   "execution_count": 128,
   "id": "ca72234e",
   "metadata": {},
   "outputs": [
    {
     "data": {
      "text/plain": [
       "array([[-0.10018808,  0.58896143, -0.63908663, -0.71943599,  0.59363862,\n",
       "         1.39816272]])"
      ]
     },
     "execution_count": 128,
     "metadata": {},
     "output_type": "execute_result"
    }
   ],
   "source": [
    "best_model.coef_"
   ]
  },
  {
   "cell_type": "code",
   "execution_count": 144,
   "id": "f698f3a0",
   "metadata": {},
   "outputs": [
    {
     "data": {
      "text/plain": [
       "LogisticRegression(penalty='none', solver='newton-cg')"
      ]
     },
     "execution_count": 144,
     "metadata": {},
     "output_type": "execute_result"
    }
   ],
   "source": [
    "best_model"
   ]
  },
  {
   "cell_type": "code",
   "execution_count": 130,
   "id": "5fef737a",
   "metadata": {},
   "outputs": [],
   "source": [
    "# Accuracy score of best model train data"
   ]
  },
  {
   "cell_type": "code",
   "execution_count": 131,
   "id": "c0ba2309",
   "metadata": {},
   "outputs": [
    {
     "name": "stdout",
     "output_type": "stream",
     "text": [
      "Accuracy Score of Base_Model: 0.6983471074380165\n"
     ]
    }
   ],
   "source": [
    "print('Accuracy Score of Base_Model:',best_model.score(X_train_1, y_train))"
   ]
  },
  {
   "cell_type": "code",
   "execution_count": 132,
   "id": "0a9a49fd",
   "metadata": {},
   "outputs": [
    {
     "name": "stdout",
     "output_type": "stream",
     "text": [
      "Accuracy Score of Base_Model: 0.6409638554216868\n"
     ]
    }
   ],
   "source": [
    "# Accuracy score of best model test data\n",
    "print('Accuracy Score of Base_Model:',best_model.score(X_test_1, y_test))"
   ]
  },
  {
   "cell_type": "code",
   "execution_count": 133,
   "id": "5d19683f",
   "metadata": {},
   "outputs": [
    {
     "name": "stdout",
     "output_type": "stream",
     "text": [
      "CLASSIFICATION REPORT FOR BEST MODEL TEST DATA \n",
      "\n",
      "              precision    recall  f1-score   support\n",
      "\n",
      "           0       0.68      0.48      0.56       200\n",
      "           1       0.62      0.79      0.70       215\n",
      "\n",
      "    accuracy                           0.64       415\n",
      "   macro avg       0.65      0.64      0.63       415\n",
      "weighted avg       0.65      0.64      0.63       415\n",
      "\n",
      "CLASSIFICATION REPORT FOR BEST MODEL TRAIN DATA \n",
      "\n",
      "              precision    recall  f1-score   support\n",
      "\n",
      "           0       0.68      0.55      0.61       413\n",
      "           1       0.71      0.81      0.76       555\n",
      "\n",
      "    accuracy                           0.70       968\n",
      "   macro avg       0.69      0.68      0.68       968\n",
      "weighted avg       0.70      0.70      0.69       968\n",
      "\n"
     ]
    }
   ],
   "source": [
    "y_pred_best_model_test = LR.predict(X_test_1)\n",
    "\n",
    "y_pred_best_model_train = LR.predict(X_train_1)\n",
    "\n",
    "print('CLASSIFICATION REPORT FOR BEST MODEL TEST DATA \\n')\n",
    "print(classification_report(y_test, y_pred_best_model_test))\n",
    "print('CLASSIFICATION REPORT FOR BEST MODEL TRAIN DATA \\n')\n",
    "print(classification_report(y_train, y_pred_best_model_train))"
   ]
  },
  {
   "cell_type": "code",
   "execution_count": 134,
   "id": "5f336915",
   "metadata": {},
   "outputs": [],
   "source": [
    "y_pred_prob_best_model_train = LR.predict_proba(X_train_1)"
   ]
  },
  {
   "cell_type": "code",
   "execution_count": 135,
   "id": "fac39e2d",
   "metadata": {},
   "outputs": [],
   "source": [
    "y_pred_prob_best_model_test = LR.predict_proba(X_test_1)"
   ]
  },
  {
   "cell_type": "code",
   "execution_count": 136,
   "id": "feab3dc5",
   "metadata": {},
   "outputs": [],
   "source": [
    "from sklearn import metrics\n",
    "from pylab import rcParams\n",
    "rcParams['figure.figsize'] = 15,7"
   ]
  },
  {
   "cell_type": "code",
   "execution_count": 137,
   "id": "827948da",
   "metadata": {},
   "outputs": [
    {
     "data": {
      "image/png": "[encoded data removed]",
      "text/plain": [
       "<Figure size 1500x700 with 8 Axes>"
      ]
     },
     "metadata": {},
     "output_type": "display_data"
    }
   ],
   "source": [
    "f,a =  plt.subplots(2,2,sharex=True,sharey=True,squeeze=False)\n",
    "\n",
    "#Plotting confusion matrix for the different models for the Training Data\n",
    "\n",
    "plot_0 = sns.heatmap((metrics.confusion_matrix(y_test,y_pred_base_model_test)),annot=True,fmt='.5g',cmap='Greys',ax=a[0][0]);\n",
    "a[0][0].set_title('BASE MODEL TEST DATA')\n",
    "\n",
    "plot_1 = sns.heatmap((metrics.confusion_matrix(y_train,y_pred_base_model_train)),annot=True,fmt='.5g',cmap='Greys',ax=a[0][1]);\n",
    "a[0][1].set_title('BASE MODEL TRAIN DATA')\n",
    "\n",
    "plot_2 = sns.heatmap((metrics.confusion_matrix(y_test,y_pred_best_model_test)),annot=True,fmt='.5g',cmap='Greys',ax=a[1][0]);\n",
    "a[1][0].set_title('BEST MODEL TEST DATA');\n",
    "\n",
    "plot_3 = sns.heatmap((metrics.confusion_matrix(y_train,y_pred_best_model_train)),annot=True,fmt='.5g',cmap='Greys',ax=a[1][1]);\n",
    "a[1][1].set_title('BEST MODEL TRAIN DATA');\n",
    "plt.tight_layout()\n"
   ]
  },
  {
   "cell_type": "code",
   "execution_count": null,
   "id": "96d88bc0",
   "metadata": {},
   "outputs": [],
   "source": []
  },
  {
   "cell_type": "markdown",
   "id": "a99ad4db",
   "metadata": {},
   "source": [
    "###  ROC_AUC SCORE & CURVE : BASE MODEL"
   ]
  },
  {
   "cell_type": "code",
   "execution_count": 138,
   "id": "16d3371e",
   "metadata": {},
   "outputs": [],
   "source": [
    "from pylab import rcParams\n",
    "rcParams['figure.figsize'] = 15,8"
   ]
  },
  {
   "cell_type": "code",
   "execution_count": 139,
   "id": "a5e1ba32",
   "metadata": {},
   "outputs": [
    {
     "name": "stdout",
     "output_type": "stream",
     "text": [
      "AUC: 0.681\n"
     ]
    },
    {
     "data": {
      "image/png": "[encoded data removed]",
      "text/plain": [
       "<Figure size 1500x800 with 1 Axes>"
      ]
     },
     "metadata": {},
     "output_type": "display_data"
    }
   ],
   "source": [
    "# predict probabilities\n",
    "probs = y_pred_prob_base_model_test\n",
    "# keep probabilities for the positive outcome only\n",
    "probs = probs[:, 1]\n",
    "# calculate AUC\n",
    "from sklearn.metrics import roc_auc_score\n",
    "auc = roc_auc_score(y_test, probs)\n",
    "print('AUC: %.3f' % auc)\n",
    "# calculate roc curve\n",
    "from sklearn.metrics import roc_curve\n",
    "fpr, tpr, thresholds = roc_curve(y_test, probs)\n",
    "plt.plot([0, 1], [0, 1], linestyle='--')\n",
    "# plot the roc curve for the model\n",
    "plt.plot(fpr, tpr, marker='.')\n",
    "plt.xlabel('False Positive Rate')\n",
    "plt.ylabel('True Positive Rate')\n",
    "plt.title('BASE MODEL TEST DATA ROC CURVE')\n",
    "# show the plot\n",
    "plt.show()"
   ]
  },
  {
   "cell_type": "code",
   "execution_count": 140,
   "id": "884a654a",
   "metadata": {},
   "outputs": [
    {
     "name": "stdout",
     "output_type": "stream",
     "text": [
      "AUC: 0.764\n"
     ]
    },
    {
     "data": {
      "image/png": "[encoded data removed]",
      "text/plain": [
       "<Figure size 1500x800 with 1 Axes>"
      ]
     },
     "metadata": {},
     "output_type": "display_data"
    }
   ],
   "source": [
    "# predict probabilities\n",
    "probs = y_pred_prob_base_model_train\n",
    "# keep probabilities for the positive outcome only\n",
    "probs = probs[:, 1]\n",
    "# calculate AUC\n",
    "from sklearn.metrics import roc_auc_score\n",
    "auc = roc_auc_score(y_train, probs)\n",
    "print('AUC: %.3f' % auc)\n",
    "# calculate roc curve\n",
    "from sklearn.metrics import roc_curve\n",
    "fpr, tpr, thresholds = roc_curve(y_train, probs)\n",
    "plt.plot([0, 1], [0, 1], linestyle='--')\n",
    "# plot the roc curve for the model\n",
    "plt.plot(fpr, tpr, marker='.')\n",
    "plt.xlabel('False Positive Rate')\n",
    "plt.ylabel('True Positive Rate')\n",
    "plt.title('BASE MODEL TRAIN DATA ROC CURVE')\n",
    "# show the plot\n",
    "plt.show()"
   ]
  },
  {
   "cell_type": "markdown",
   "id": "086e12e5",
   "metadata": {},
   "source": [
    "### ROC_AUC SCORE & CURVE : BEST MODEL "
   ]
  },
  {
   "cell_type": "code",
   "execution_count": 141,
   "id": "765f0452",
   "metadata": {},
   "outputs": [
    {
     "name": "stdout",
     "output_type": "stream",
     "text": [
      "AUC: 0.702\n"
     ]
    },
    {
     "data": {
      "image/png": "[encoded data removed]",
      "text/plain": [
       "<Figure size 1500x800 with 1 Axes>"
      ]
     },
     "metadata": {},
     "output_type": "display_data"
    }
   ],
   "source": [
    "# predict probabilities\n",
    "probs = y_pred_prob_best_model_test\n",
    "# keep probabilities for the positive outcome only\n",
    "probs = probs[:, 1]\n",
    "# calculate AUC\n",
    "from sklearn.metrics import roc_auc_score\n",
    "auc = roc_auc_score(y_test, probs)\n",
    "print('AUC: %.3f' % auc)\n",
    "# calculate roc curve\n",
    "from sklearn.metrics import roc_curve\n",
    "fpr, tpr, thresholds = roc_curve(y_test, probs)\n",
    "plt.plot([0, 1], [0, 1], linestyle='--')\n",
    "# plot the roc curve for the model\n",
    "plt.plot(fpr, tpr, marker='.')\n",
    "plt.xlabel('False Positive Rate')\n",
    "plt.ylabel('True Positive Rate')\n",
    "plt.title('BEST MODEL TEST DATA ROC CURVE')\n",
    "# show the plot\n",
    "plt.show()"
   ]
  },
  {
   "cell_type": "code",
   "execution_count": 142,
   "id": "cf9cde6a",
   "metadata": {},
   "outputs": [
    {
     "name": "stdout",
     "output_type": "stream",
     "text": [
      "AUC: 0.748\n"
     ]
    },
    {
     "data": {
      "image/png": "[encoded data removed]",
      "text/plain": [
       "<Figure size 1500x800 with 1 Axes>"
      ]
     },
     "metadata": {},
     "output_type": "display_data"
    }
   ],
   "source": [
    "# predict probabilities\n",
    "probs = y_pred_prob_best_model_train\n",
    "# keep probabilities for the positive outcome only\n",
    "probs = probs[:, 1]\n",
    "# calculate AUC\n",
    "from sklearn.metrics import roc_auc_score\n",
    "auc = roc_auc_score(y_train, probs)\n",
    "print('AUC: %.3f' % auc)\n",
    "# calculate roc curve\n",
    "from sklearn.metrics import roc_curve\n",
    "fpr, tpr, thresholds = roc_curve(y_train, probs)\n",
    "plt.plot([0, 1], [0, 1], linestyle='--')\n",
    "# plot the roc curve for the model\n",
    "plt.plot(fpr, tpr, marker='.')\n",
    "plt.xlabel('False Positive Rate')\n",
    "plt.ylabel('True Positive Rate')\n",
    "plt.title('BEST MODEL TRAIN DATA ROC CURVE')\n",
    "# show the plot\n",
    "plt.show()"
   ]
  },
  {
   "cell_type": "code",
   "execution_count": null,
   "id": "455acb33",
   "metadata": {},
   "outputs": [],
   "source": []
  }
 ],
 "metadata": {
  "kernelspec": {
   "display_name": "Python 3 (ipykernel)",
   "language": "python",
   "name": "python3"
  },
  "language_info": {
   "codemirror_mode": {
    "name": "ipython",
    "version": 3
   },
   "file_extension": ".py",
   "mimetype": "text/x-python",
   "name": "python",
   "nbconvert_exporter": "python",
   "pygments_lexer": "ipython3",
   "version": "3.9.16"
  }
 },
 "nbformat": 4,
 "nbformat_minor": 5
}
